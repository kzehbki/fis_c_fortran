{
  "nbformat": 4,
  "nbformat_minor": 0,
  "metadata": {
    "colab": {
      "name": "FisComp_Aula_Fortran_02_Estruturas_de_Controle.ipynb",
      "version": "0.3.2",
      "provenance": []
    },
    "language_info": {
      "codemirror_mode": {
        "name": "ipython",
        "version": 3
      },
      "file_extension": ".py",
      "mimetype": "text/x-python",
      "name": "python",
      "nbconvert_exporter": "python",
      "pygments_lexer": "ipython3",
      "version": "3.5.2"
    },
    "kernelspec": {
      "display_name": "Python 3",
      "language": "python",
      "name": "python3"
    }
  },
  "cells": [
    {
      "cell_type": "markdown",
      "metadata": {
        "id": "JYTUU2EeguTt",
        "colab_type": "text"
      },
      "source": [
        "![Logotipo do IF](Área de Trabalho/Fortran/Logo_IF.png)\n",
        "\n",
        "<!--\n",
        "<h1> <span style=\"color:blue\">Curso de Física Computacional </span> </h1> \n",
        "-->\n",
        "\n",
        "<p style=\"margin-bottom:1cm;\"> </p>\n",
        "\n",
        "\n",
        "<center> <font size=\"8\" color=\"blue\">Curso de Física Computacional</font> </center>\n",
        "\n",
        "\n",
        "<font size=\"5\" color=\"blue\">**Prof. :** Salviano A. Leão -- Instituto de Física - UFG-GO</font>\n",
        "\n",
        "\n",
        "Esse material faz parte do curso de Física Computacional.\n"
      ]
    },
    {
      "cell_type": "markdown",
      "metadata": {
        "id": "CulEoAdXguTw",
        "colab_type": "text"
      },
      "source": [
        "# Aula 02\n",
        "\n",
        "Nessa aula apresentamos as estruturas básicas do fortran: laços, tomadas de decisão, matrizes, e conversaão interna de tipos. Uma vez conhecidas essas estruturas já será possível implementar alguns códigos mais simples. \n",
        "\n",
        "Posteriormente iremos tratar dessas estruturas de forma mais detalhada."
      ]
    },
    {
      "cell_type": "markdown",
      "metadata": {
        "id": "vVOF7djmguTz",
        "colab_type": "text"
      },
      "source": [
        "# Formatos de Entrada/Saída do Fortran\n",
        "\n",
        "Aqui apresentaremos rapidadmente alguns elementos das intruções de formatação dos dados de **Entrada/Saída**. Posteriormente voltaremos ao assunto com mais elementos. \n",
        "\n",
        "Até o momento vimos as instruções `READ`, `WRITE` e `PRINT`. Estas são as chamadas instruções de  **Entrada/Saída** *direcionadas à lista*. Elas também são chamados de instruções de Entrada/Saída de formato livre. Instruções de Entrada/Saída direcionadas por lista são fáceis de usar; no entanto, não temos controle sobre a aparência da entrada e saída. Para superar esse problema, devemos usar as instruções de formatos os chamados `FORMAT` do fortran.\n",
        "\n",
        "No **Fortran** as instruções `FORMAT` são usados para controlar a aparência da entrada e saída. Elas possuem a seguinte forma simples:\n",
        "\n",
        "```fortran\n",
        "(... formato do editor descrições ...)\n",
        "```\n",
        "\n",
        "Ou seja, um `FORMAT` do **Fortran** é um par de parênteses que contém descritores de edição de formato separados por vírgulas.\n",
        "\n",
        "Existem três maneiras possíveis de preparar um formato **Fortran**. A forma a seguir foi muito usada, \n",
        "\n",
        "```fortran\n",
        "      WRITE(*,10) 'Largura', L2, 'AREA =', AREA\n",
        " 10   FORMAT(1X, A7, 2X, I3, 4X, A6, 2X, F6.2)\n",
        "```\n",
        "\n",
        "entretanto hoje ela está obsoleta e não será usada mais.  Note que “10” que surge em  `WRITE(*,10)` e em `10   FORMAT` nada mais é do que um rótulo que específica o formato que está sendo usado. \n",
        "\n",
        " O **Fortran** tem uma instrução `FORMAT`; mas não a usaremos porque os dois métodos discutidos abaixo oferecem maior nível de flexibilidade, e seu uso ficou obsoleto no **Fortran 2008**. Portanto, o exemplo anterior deve ser escrito da seguinte forma:\n",
        "\n",
        "```fortran\n",
        "      WRITE(*,\"(1X,A7,2X,I3,4X,A6,2X,F6.2)\") 'Largura', L2, 'AREA =', AREA\n",
        "``` \n",
        "\n",
        "ou ainda, usando uma variável auxiliar\n",
        "\n",
        "```fortran\n",
        "    CHARACTER(LEN=80) :: FMT\n",
        "    ...\n",
        "    FMT = \"(1X, A7, 2X, I3, 4X, A6, 2X, F6.2)\"\n",
        "    WRITE(*,FMT) 'Largura', L2, 'AREA =', AREA\n",
        "    ....\n",
        "``` \n",
        "\n",
        "Poderíamos trocar em ambos os exemplos acima a instrução `WRITE(*,FMT)` pela instrução `PRINT FMT, `, dessa forma o último código acima toma a seguinte forma:\n",
        "\n",
        "```fortran\n",
        "    CHARACTER(LEN=80) :: FMT\n",
        "    ...\n",
        "    FMT = \"(1X, A7, 2X, I3, 4X, A6, 2X, F6.2)\"\n",
        "    PRINT FMT, 'Largura', L2, 'AREA =', AREA\n",
        "    ....\n",
        "``` \n",
        "\n",
        "\n",
        "Portanto, no **Fortran** escolha uma das duas formas abaixo para formatar a  **Entrada/Saída** de dados do seu código.\n",
        "\n",
        "- Escreva o formato como um conjunto de caracteres e use-o para substituir o segundo asterisco em `READ(*,*)` ou `WRITE(*,*)`.\n",
        "\n",
        "  ```fortran\n",
        "    READ(*,'(2I5,F10.2)')  ... variáveis ...\n",
        "    READ(*,\"(5F10.2)\")     ... variáveis ...\n",
        "    \n",
        "    WRITE(*,'(A,I5)')    ... variáveis e expressões ...  \n",
        "    WRITE(*,\"(10F5.2)\")  ... variáveis e expressões ...\n",
        "  ```\n",
        "\n",
        "  O código acima tem duas instruções `READ` e duas` WRITE` cujos segundos asteriscos `*` são substituídos por um conjunto de caracteres de formato. `(2I5, F10.2)`, `(5F10.2)`, `(A, I5)` e `(10F5.2)` são descritores de edição de formato.\n",
        "\n",
        "- Como um formato é uma cadeia de caracteres, podemos declarar uma constante de caractere para manter uma cadeia de formatações.\n",
        "\n",
        "  ```fortran\n",
        "    CHARACTER(LEN=20), PARAMETER :: FMT1 = \"(I5,F10.2)\"\n",
        "    CHARACTER(LEN=*), PARAMETER  :: FMT2 = \"(4I5, 5E14.7, 8F5.0)\"\n",
        "    \n",
        "    READ(*,FMT1)  ... variáveis ...\n",
        "    READ(*,FMT1)  ... variáveis ...\n",
        "    \n",
        "    WRITE(*,FMT2) ... variáveis e expressões ...\n",
        "    WRITE(*,FMT2) ... variáveis e expressões ...\n",
        "  ```\n",
        "\n",
        "  Acima, as constantes de caracteres, definidas como `PARAMETER`, `FMT1` e `FMT2` são usadas como formatos.\n",
        "\n",
        "- Também podemos usar uma variável de caractere para armazenar um formato. No exemplo abaixo, a variável de caractere `texto` é configurada para um formato e usada nas declarações `READ` e `WRITE`.\n",
        "\n",
        "  ```fortran\n",
        "    CHARACTER(LEN=80) :: texto\n",
        "    ...\n",
        "    texto = \"(3I5, 10F8.2)\"              ! Aqui ele recebe um formato \n",
        "    READ(*,texto)  ... variáveis ...     ! Aqui o formato é usado para leitura\n",
        "    ...\n",
        "    WRITE(*,texto)  ... variáveis ...    ! O mesmo formato também usado para escrita\n",
        "    ...\n",
        "    \n",
        "    texto = \"(I5,3x,3(I5, 2x, 10F8.2))\"  ! Aqui ela recebe um novo formato no mesmo código\n",
        "    WRITE(*,texto) ... variáveis e expressões ...\n",
        "  ```\n",
        "\n",
        "  Note que o mesmo formato pode ser usado nas declarações `READ` e` WRITE`.\n",
        "\n",
        "\n",
        "**ATENÇÃO:** O comprimento da variável caracter que contém um formato deve ser grande o suficiente. Caso contrário, o formato armazenado ali ficará incompleto e causará erro de formatação. Considere o seguinte exemplo.\n",
        "\n",
        "```fortran\n",
        "   CHARACTER (LEN = 10) :: FMT\n",
        "   FMT = \"(I2, F3.5, E15.7)\"\n",
        "   WRITE (*, FMT) ......\n",
        "```\n",
        "\n",
        "Como o `FMT` tem comprimento 10 e o formato contém 15 caracteres, o que a variável `FMT` realmente contém é\n",
        "\n",
        "```fortran\n",
        "(I2, F3.5, E\n",
        "```\n",
        "\n",
        "que **não** é um formato completo.\n",
        "\n",
        "\n",
        "## Edição de Descritores de Formato \n",
        "\n",
        "A parte tediosa do uso do formato **Fortran** é dominar o uso dos descritores de edição de formato. Cada descritor de edição informa ao sistema como lidar com determinado tipo de valor ou variável. Cada valor requer algumas *posições*. Por exemplo, um inteiro de quatro dígitos requer pelo menos quatro posições para imprimir. Portanto, o número de posições a serem usadas é a informação mais importante em um descritor de edição.\n",
        "\n",
        "Usaremos a seguinte convenção de símbolos:\n",
        "\n",
        "- **w**: o número de posições a serem usadas\n",
        "- **m**: o número mínimo de posições a serem usadas\n",
        "- **d**: o número de dígitos à direita da vírgula decimal\n",
        "- **e**: o número de dígitos na parte expoente\n",
        "\n",
        "Embora possamos imprimir um número usando quantas posições desejarmos, isso é, somente nos casos de  **Entrada/Saída**. Este número de posições **não** é a precisão (ou seja, o número de dígitos significativos) desse número. Para ser mais preciso, os computadores normalmente podem armazenar números reais de até sete dígitos significativos. Esta é a *precisão* dos números reais. No entanto, podemos imprimir um número real usando 50 posições nas quais 25 posições são para a parte fracionária. Esta é apenas uma maneira de descrever a aparência,  e ela não altera a precisão dos números reais.\n",
        "\n",
        "A seguir estão os descritores do editor a serem discutidos. Detalhes serão dados nas páginas seguintes.\n",
        "\n",
        "| Objetivo                      | Formulário                           | Editar descritor |               |\n",
        "| ----------------------------- | ------------------------------------ | ---------------- | ------------- |\n",
        "| Leitura/Escrita de INTEGER    |                                      | `Iw`             | `Iw.m`        |\n",
        "| Lendo/Escrevendo um REAL      | Decimal                              | `Fw.d`           |               |\n",
        "| Lendo/Escrevendo um REAL      | Exponencial                          | `Ew.d`           | `Ew.dee`      |\n",
        "| Lendo/Escrevendo um REAL      | Scientific                           | `ESw.d`          | `ESw.dEe`     |\n",
        "| Lendo/Escrevendo um REAL      | Engenharia                           | `ENw.d`          | `ENw.dEe`     |\n",
        "| Lendo/Escrevendo um LOGICAL   |                                      | `Lw`             |               |\n",
        "| Lendo/escrevendo CHARACTER    |                                      | `A`              | `Aw`          |\n",
        "| Posicionamento                | Horizontal                           | `nX`             |               |\n",
        "| Posicionamento                | Tabulação                            | `Tc`             | `TLc` e` TRc` |\n",
        "| Posicionamento                | Vertical                             | `/`              |               |\n",
        "| Outros                        | Agrupamento                          | `r (....)`       |               |\n",
        "| Outros                        | Formatar o controle de digitalização | `:`              |               |\n",
        "| Outros                        | Controle de sinal                    | `S`,` SP` e `SS` |               |\n",
        "| Outros                        | Controle em branco                   | `BN` e` BZ`      |               |\n",
        "\n",
        "\n",
        "\n",
        "A maioria dos descritores de edição pode ser repetida e vários descritores de edição podem ser agrupados em um grupo. Na maioria dos casos, os descritores de edição são separados por vírgulas. O seguinte é um exemplo:\n",
        "\n",
        "```fortran\n",
        " CHARACTER (LEN = 30) :: Formato\n",
        " Formato = \"(5X, I5.2, F10.3, A, ES14.7)\"\n",
        " READ  (*, Formato) ... variáveis ...\n",
        " WRITE (*, Formato) ... variáveis e expressões ...\n",
        "```\n",
        "\n",
        "No exemplo acima, o formato `Formato` tem cinco descritores de edição `5X, I5.2, F10.3, A` e `ES14.7`. Os descritores de edição adjacentes são separados por uma vírgula.\n",
        "\n",
        "\n",
        "\n",
        "**IMPORTANTE:** Você pode usar **ambos** direcionados por lista e formatados **READ** e **WRITE** em seu programa."
      ]
    },
    {
      "cell_type": "markdown",
      "metadata": {
        "id": "GaOm8FYgguT1",
        "colab_type": "text"
      },
      "source": [
        "## Laços de repetição com o `DO`\n",
        "\n",
        "A seguir mostramos como implementar um loop no Fortran. O \n",
        "loop `do` possui a seguinte sintaxe\n",
        "\n",
        "```Fortran\n",
        "DO Contador=Inicio,Fim\n",
        "   comandos\n",
        "END DO\n",
        "```\n",
        "ele irá incrementar o `Contador` do seu valor valor inicial `Inicio` até\n",
        "o seu valor final `Fim`, com passo 1. Exemplo:\n",
        "```Fortran\n",
        "DO i=1,10\n",
        "   PRINT*, \"i = \", i\n",
        "END DO\n",
        "```\n",
        "\n",
        "A seguir mostramos um loop com um passo fixo, o qual têm a seguinte sintaxe\n",
        "```Fortran\n",
        "DO Contador=Inicio,Fim, Passo\n",
        "   comandos\n",
        "END DO\n",
        "```\n",
        "\n",
        "Nesse caso, ele irá incrementar o *Contador* do seu valor\n",
        "valor inicial *Inicio* até o seu valor final *Fim*, com \n",
        "passo *Passo*. Exemplo:\n",
        "```Fortran\n",
        "DO i=1,21,2\n",
        "   PRINT*, \"i = \", i\n",
        "END DO\n",
        "```"
      ]
    },
    {
      "cell_type": "code",
      "metadata": {
        "ExecuteTime": {
          "end_time": "2019-04-15T11:04:26.499018Z",
          "start_time": "2019-04-15T11:04:26.392276Z"
        },
        "id": "LDxiIQSwguT4",
        "colab_type": "code",
        "colab": {}
      },
      "source": [
        "# Caso o diretório não exista cria ele\n",
        "!mkdir -p src"
      ],
      "execution_count": 0,
      "outputs": []
    },
    {
      "cell_type": "code",
      "metadata": {
        "ExecuteTime": {
          "end_time": "2019-04-15T11:04:26.503902Z",
          "start_time": "2019-04-15T11:04:26.500911Z"
        },
        "run_control": {
          "marked": false
        },
        "id": "vjHI9SoJguT-",
        "colab_type": "code",
        "colab": {},
        "outputId": "b938ce71-5969-4d1c-c753-86c125f90046"
      },
      "source": [
        "%%writefile src/Loop_do_passo1.f95\n",
        "PROGRAM Loop01\n",
        "  IMPLICIT NONE\n",
        "  INTEGER :: i\n",
        "  CHARACTER (LEN = 30) :: fmt\n",
        "  DO i=1,15,3\n",
        "     PRINT \"(A4,i2)\" , \"i = \", i\n",
        "  END DO\n",
        "  PRINT \"(/,A,/)\" , \"O Loop1 acaba aqui.\"\n",
        "  fmt=\"(A4,i2)\"\n",
        "  DO i=17,29,4\n",
        "     PRINT fmt, \"i = \", i\n",
        "  END DO\n",
        "  PRINT \"(/,A,/)\" , \"O Loop2 acaba aqui.\"\n",
        "STOP   ! Interrompe a execução do programa\n",
        "END PROGRAM Loop01"
      ],
      "execution_count": 0,
      "outputs": [
        {
          "output_type": "stream",
          "text": [
            "Overwriting src/Loop_do_passo1.f95\n"
          ],
          "name": "stdout"
        }
      ]
    },
    {
      "cell_type": "code",
      "metadata": {
        "ExecuteTime": {
          "end_time": "2019-04-15T11:04:26.864115Z",
          "start_time": "2019-04-15T11:04:26.505605Z"
        },
        "run_control": {
          "marked": false
        },
        "id": "yITcsBAmguUF",
        "colab_type": "code",
        "colab": {}
      },
      "source": [
        "# Compilando o program\n",
        "!f95 -o x -Wall -std=f2008 src/Loop_do_passo1.f95"
      ],
      "execution_count": 0,
      "outputs": []
    },
    {
      "cell_type": "code",
      "metadata": {
        "ExecuteTime": {
          "end_time": "2019-04-15T11:04:26.992991Z",
          "start_time": "2019-04-15T11:04:26.868204Z"
        },
        "run_control": {
          "marked": false
        },
        "id": "-g_Sgl40guUK",
        "colab_type": "code",
        "colab": {},
        "outputId": "dccb45d6-c03b-44c9-f097-bf967fe3f24e"
      },
      "source": [
        "#Rodando o programa\n",
        "!./x"
      ],
      "execution_count": 0,
      "outputs": [
        {
          "output_type": "stream",
          "text": [
            "i =  1\r\n",
            "i =  4\r\n",
            "i =  7\r\n",
            "i = 10\r\n",
            "i = 13\r\n",
            "\r\n",
            "O Loop1 acaba aqui.\r\n",
            "\r\n",
            "i = 17\r\n",
            "i = 21\r\n",
            "i = 25\r\n",
            "i = 29\r\n",
            "\r\n",
            "O Loop2 acaba aqui.\r\n",
            "\r\n"
          ],
          "name": "stdout"
        }
      ]
    },
    {
      "cell_type": "markdown",
      "metadata": {
        "id": "V74cEIMkguUP",
        "colab_type": "text"
      },
      "source": [
        "## Básico de matrizes e vetores\n",
        "\n",
        "No fortran declara-se o vetor $A$ de 10 elementos e a matriz $B$\n",
        "de $5 \\times 10$, como:\n",
        "\n",
        "```Fortran\n",
        "PROGRAM VecAndMat\n",
        "   IMPLICIT NONE\n",
        "   REAL, DIMENSION(10)   :: a\n",
        "   REAL, DIMENSION(5,10) :: b\n",
        "   < C O M A N D O S >\n",
        "END PROGRAM VecAndMat\n",
        "```\n",
        "ou ainda em uma das seguintes formas:\n",
        "```Fortran\n",
        "PROGRAM VecAndMat\n",
        "   IMPLICIT NONE\n",
        "   REAL,    :: a, b\n",
        "   DIMENSION(10)   :: a\n",
        "   DIMENSION(5,10) :: b\n",
        "   < C O M A N D O S >\n",
        "END PROGRAM VecAndMat\n",
        "```\n",
        "\n",
        "```Fortran\n",
        "PROGRAM VecAndMat\n",
        "   IMPLICIT NONE\n",
        "   REAL,    :: a(10), b(5,10)\n",
        "   < C O M A N D O S >\n",
        "END PROGRAM VecAndMat\n",
        "```\n",
        "\n",
        "```Fortran\n",
        "PROGRAM VecAndMat\n",
        "   IMPLICIT NONE\n",
        "   REAL, DIMENSION(10) :: a, b(5,10)\n",
        "   < C O M A N D O S >\n",
        "END PROGRAM VecAndMat\n",
        "```\n",
        "Considere o seguinte exemplo:"
      ]
    },
    {
      "cell_type": "code",
      "metadata": {
        "ExecuteTime": {
          "end_time": "2019-04-15T11:04:27.031452Z",
          "start_time": "2019-04-15T11:04:26.998074Z"
        },
        "run_control": {
          "marked": false
        },
        "id": "TJqfRLm7guUQ",
        "colab_type": "code",
        "colab": {},
        "outputId": "cd935fd5-5226-4bac-b7dc-32e5535bdb88"
      },
      "source": [
        "%%writefile src/Arrays_01.f95\n",
        "PROGRAM arrays\n",
        "  IMPLICIT NONE\n",
        "  INTEGER :: i, j\n",
        "  INTEGER, PARAMETER :: n=4\n",
        "  INTEGER, DIMENSION(n,n) :: A = 7\n",
        "  REAL, DIMENSION(n+1) :: B = 5.0\n",
        "  DO I = 1,n\n",
        "     PRINT '(20x,4(i1,3x))', A(i,:)\n",
        "  END DO\n",
        "  PRINT *\n",
        "  PRINT *\n",
        "  DO I = 1,n\n",
        "     WRITE(*,'(20x,4(i1,3x))') (a(i,j), j=1,n)\n",
        "  END DO\n",
        "  DO I = 1,n+1\n",
        "     WRITE(*,'(20x,f3.1)') b(i)                 ! Impressão por linha\n",
        "  END DO\n",
        "  WRITE(*,'(10x,5(f3.1,3x))') ( b(i), i=1,n+1)  ! Impressão por coluna\n",
        "  STOP\n",
        "END PROGRAM arrays"
      ],
      "execution_count": 0,
      "outputs": [
        {
          "output_type": "stream",
          "text": [
            "Overwriting src/Arrays_01.f95\n"
          ],
          "name": "stdout"
        }
      ]
    },
    {
      "cell_type": "code",
      "metadata": {
        "ExecuteTime": {
          "end_time": "2019-04-15T11:04:27.390128Z",
          "start_time": "2019-04-15T11:04:27.033288Z"
        },
        "run_control": {
          "marked": false
        },
        "id": "SJnSHj9pguUY",
        "colab_type": "code",
        "colab": {}
      },
      "source": [
        "# Compilando o program\n",
        "!f95 -Wall -Waliasing -pedantic -Warray-bounds -Wsurprising -Wunderflow -fcheck=all -std=f2008 -o x src/Arrays_01.f95"
      ],
      "execution_count": 0,
      "outputs": []
    },
    {
      "cell_type": "code",
      "metadata": {
        "ExecuteTime": {
          "end_time": "2019-04-15T11:04:27.500051Z",
          "start_time": "2019-04-15T11:04:27.391968Z"
        },
        "run_control": {
          "marked": false
        },
        "id": "XHlFocd0guUc",
        "colab_type": "code",
        "colab": {},
        "outputId": "ad1a0543-3304-4ada-bedf-2beea042047f"
      },
      "source": [
        "#Rodando o programa\n",
        "!./x "
      ],
      "execution_count": 0,
      "outputs": [
        {
          "output_type": "stream",
          "text": [
            "                    7   7   7   7\r\n",
            "                    7   7   7   7\r\n",
            "                    7   7   7   7\r\n",
            "                    7   7   7   7\r\n",
            "\r\n",
            "\r\n",
            "                    7   7   7   7\r\n",
            "                    7   7   7   7\r\n",
            "                    7   7   7   7\r\n",
            "                    7   7   7   7\r\n",
            "                    5.0\r\n",
            "                    5.0\r\n",
            "                    5.0\r\n",
            "                    5.0\r\n",
            "                    5.0\r\n",
            "          5.0   5.0   5.0   5.0   5.0\r\n"
          ],
          "name": "stdout"
        }
      ]
    },
    {
      "cell_type": "code",
      "metadata": {
        "ExecuteTime": {
          "end_time": "2019-04-15T11:05:50.733345Z",
          "start_time": "2019-04-15T11:05:50.723500Z"
        },
        "id": "f93yrWBzguUj",
        "colab_type": "code",
        "colab": {},
        "outputId": "2fa70310-bf19-4340-b934-7d9446b892c5"
      },
      "source": [
        "%%writefile src/Loop_do_implicito_01.f95\n",
        "PROGRAM Loop_implicito\n",
        "  IMPLICIT NONE\n",
        "  INTEGER, PARAMETER :: nl=100, nc=5\n",
        "  REAL, DIMENSION (nl,nc) :: M     ! Declaraçao da matriz\n",
        "  CHARACTER(LEN=60) :: fmt1, fmt2\n",
        "  INTEGER :: L, I \n",
        "  ...\n",
        "  fmt1 = \"(1X,'LINHA', 5(4x,I3,5x))\"\n",
        "  fmt2 = \"(1X,I4,5(F10.2,2x))\"\n",
        "  WRITE(*,fmt1)(I, I = 1,5)  ! Escreve o cabeçalho\n",
        "  DO L = 1,nl  ! faz um loop sobre as nl linhas\n",
        "     WRITE(*,fmt2)L, (M(L,I), I = 1,5)\n",
        "  END DO\n",
        "  ...\n",
        "END PROGRAM Loop_implicito"
      ],
      "execution_count": 0,
      "outputs": [
        {
          "output_type": "stream",
          "text": [
            "Overwriting src/Loop_do_implicito_01.f95\n"
          ],
          "name": "stdout"
        }
      ]
    },
    {
      "cell_type": "markdown",
      "metadata": {
        "id": "gxkyGgnJguUn",
        "colab_type": "text"
      },
      "source": [
        "## Laços de repetição implícito\n",
        "\n",
        "Com o fortran é possível criar um laço de repetição implícito, o que é muito usado para formatar as saídas de matrizes bidimensionais. A maneira mais simples e eficiente de ler ou escrever todos os elementos de uma matriz é colocar seu nome, na lista de transferência de dados. No caso de uma matriz multidimensional, os elementos serão transferidos na sequência de armazenamento normal, com o primeiro subscrito variando mais rapidamente.\n",
        "\n",
        "Um loop `DO` implícito permite que os elementos sejam transferidos seletivamente ou em alguma ordem fora do padrão. As regras para um `DO` implícito são semelhantes àquelas de um loop `DO` ordinário, mas o loop forma um único item na lista de transferência de dados e é delimitado por um par de parênteses em vez de pelas instruções `DO` e `END DO`. Por exemplo:\n",
        "\n",
        "```fortran \n",
        "   READ (*,*) (VETOR(i), i = imin, imax)\n",
        "   WRITE (*,\"(I2,2x,2(F15.7,2x))\") (k, A(k), B(k), k = 1,10,2)\n",
        "```\n",
        "\n",
        "Uma matriz (*array*) multidimensional pode ser gravada/impressa em um formato transposto. O próximo exemplo gera uma matriz `M(100,5)`, mas com 5 elementos ao longo e 100 linhas verticalmente:\n",
        "\n",
        "\n",
        "```fortran\n",
        "PROGRAM Loop_implicito\n",
        "  IMPLICIT NONE\n",
        "  INTEGER, PARAMETER :: nl=100, nc=5\n",
        "  REAL, DIMENSION (nl,nc) :: M     ! Declaraçao da matriz\n",
        "  CHARACTER(LEN=60) :: fmt1, fmt2\n",
        "  INTEGER :: L, I \n",
        "  ...\n",
        "  fmt1 = \"(1X,'LINHA', 5(4x,I3,5x))\"\n",
        "  fmt2 = \"(1X,I4,5(F10.2,2x))\"\n",
        "  WRITE(*,fmt1)(I, I = 1,5)  ! Escreve o cabeçalho\n",
        "  DO L = 1,nl  ! faz um loop sobre as nl linhas\n",
        "     WRITE(*,fmt2)L, (M(L,I), I = 1,5)\n",
        "  END DO\n",
        "  ...\n",
        "END PROGRAM Loop_implicito\n",
        "```\n",
        " \n",
        "A seguir mostramos o mesmo código escrito de uma forma mais compacta\n",
        "\n",
        "```fortran\n",
        "PROGRAM Loop_implicito\n",
        "  IMPLICIT NONE\n",
        "  INTEGER, PARAMETER :: nl=100, nc=5\n",
        "  REAL, DIMENSION (nl,nc) :: M     ! Declaraçao da matriz\n",
        "  CHARACTER(LEN=60) :: fmt1\n",
        "  INTEGER :: L, I \n",
        "  ...\n",
        "  fmt1 = \"(1X,'LINHA', 5(4x,I3,5x), 100(/,1X, I4, 5(F10.2,2x))\"\n",
        "  WRITE (*,fmt1)(I, I = 1,5),((L, M(L,I), I = 1,5), L = 1,100)\n",
        "  ...\n",
        "END PROGRAM Loop_implicito\n",
        "```\n",
        "\n",
        "O primeiro loop escreve os cabeçalhos das cinco colunas e, em seguida, o loop duplo escreve um número de linha para cada linha, seguido de cinco elementos de matriz. Observe que os parênteses precisam ser correspondidos e que uma vírgula é necessária após o parêntese interno direito, pois o loop interno é apenas um item na lista contida no loop externo.\n",
        "\n",
        "O loop `DO` implícito tem a forma geral:\n",
        "\n",
        "`(lista de dados, variável-do-loop = início, fim, passo)`\n",
        " \n",
        "onde as regras para os valores de início, fim e passo são exatamente as mesma de uma instrução `DO` comum. A variável de loop (normalmente um inteiro) pode ser usada dentro da lista de dados e esta lista pode, por sua vez, incluir outras listas implícitas completas de `DO`.\n",
        "\n",
        "Se um erro ou condição de fim de arquivo ocorrer em um loop `DO` implícito, a variável de controle de loop será indefinida na saída; Isso significa que um loop `DO` explícito é necessário para ler uma lista indefinida de registros de dados e sair com o conhecimento de quantos itens foram realmente inseridos."
      ]
    },
    {
      "cell_type": "code",
      "metadata": {
        "ExecuteTime": {
          "end_time": "2019-04-15T11:16:26.132086Z",
          "start_time": "2019-04-15T11:16:26.127720Z"
        },
        "id": "YfUh6bQIguUp",
        "colab_type": "code",
        "colab": {},
        "outputId": "35e0d047-b398-408f-e9b1-28e6e2742a4d"
      },
      "source": [
        "%%writefile src/Loop_do_implicito_01.f95\n",
        "PROGRAM Loop_implicito\n",
        "  IMPLICIT NONE\n",
        "  INTEGER, PARAMETER :: nl=20, nc=5    ! Alteramos nl de 100 para 20 por visualização\n",
        "  REAL, DIMENSION (nl,nc) :: M     ! Declaraçao da matriz\n",
        "  CHARACTER(LEN=60) :: fmt1, fmt2\n",
        "  INTEGER :: L, I \n",
        "  CALL RANDOM_NUMBER(M)  ! Preenche a matriz com número aleatorios entre 0 e 1.\n",
        "  M = nint(10.0*M) ! Muda os valores para o intervalo de 0 a 10 \n",
        "  fmt1 = \"(1X,'LINHA', 5(4x,I3,5x))\"\n",
        "  fmt2 = \"(1X,I4,5(F10.2,2x))\"\n",
        "  WRITE(*,fmt1)(I, I = 1,nc)  ! Escreve o cabeçalho\n",
        "  DO L = 1,nl  ! faz um loop sobre as nl linhas\n",
        "     WRITE(*,fmt2)L, (M(L,I), I = 1,nc)\n",
        "  END DO\n",
        "  STOP\n",
        "END PROGRAM Loop_implicito"
      ],
      "execution_count": 0,
      "outputs": [
        {
          "output_type": "stream",
          "text": [
            "Overwriting src/Loop_do_implicito_01.f95\n"
          ],
          "name": "stdout"
        }
      ]
    },
    {
      "cell_type": "code",
      "metadata": {
        "ExecuteTime": {
          "end_time": "2019-04-15T11:16:26.512776Z",
          "start_time": "2019-04-15T11:16:26.353525Z"
        },
        "id": "w_6_x4uXguUt",
        "colab_type": "code",
        "colab": {}
      },
      "source": [
        "# Compilando o program\n",
        "!f95 -o x -Wall -std=f2008 src/Loop_do_implicito_01.f95"
      ],
      "execution_count": 0,
      "outputs": []
    },
    {
      "cell_type": "code",
      "metadata": {
        "ExecuteTime": {
          "end_time": "2019-04-15T11:16:27.391577Z",
          "start_time": "2019-04-15T11:16:27.270867Z"
        },
        "id": "IPSwi0OfguUw",
        "colab_type": "code",
        "colab": {},
        "outputId": "bdadb3c8-17e4-41c0-f1df-3ad6d4859da7"
      },
      "source": [
        "#Rodando o programa\n",
        "!./x"
      ],
      "execution_count": 0,
      "outputs": [
        {
          "output_type": "stream",
          "text": [
            " LINHA      1           2           3           4           5\r\n",
            "    1     10.00        9.00        7.00        6.00        7.00\r\n",
            "    2      6.00        4.00        6.00       10.00        7.00\r\n",
            "    3     10.00        2.00       10.00       10.00        5.00\r\n",
            "    4      7.00       10.00        9.00        7.00        3.00\r\n",
            "    5      4.00        6.00        7.00       10.00        1.00\r\n",
            "    6      5.00        7.00        7.00        1.00        1.00\r\n",
            "    7      1.00        5.00        4.00        7.00        5.00\r\n",
            "    8      0.00        3.00        9.00        8.00        4.00\r\n",
            "    9      3.00        1.00        1.00        9.00        0.00\r\n",
            "   10      3.00        8.00        7.00        7.00        8.00\r\n",
            "   11      2.00        6.00        8.00        8.00        6.00\r\n",
            "   12      1.00        7.00        3.00        6.00        8.00\r\n",
            "   13      9.00        9.00        1.00        1.00       10.00\r\n",
            "   14      4.00        7.00        6.00        5.00        1.00\r\n",
            "   15      4.00        2.00        8.00        6.00        3.00\r\n",
            "   16      7.00        6.00        9.00        1.00        6.00\r\n",
            "   17      0.00       10.00        7.00        6.00        0.00\r\n",
            "   18      7.00       10.00        5.00        5.00        1.00\r\n",
            "   19      6.00        3.00        4.00        9.00        2.00\r\n",
            "   20      3.00        6.00        4.00        3.00        1.00\r\n"
          ],
          "name": "stdout"
        }
      ]
    },
    {
      "cell_type": "code",
      "metadata": {
        "ExecuteTime": {
          "end_time": "2019-04-15T11:26:50.913075Z",
          "start_time": "2019-04-15T11:26:50.901258Z"
        },
        "id": "FKnDFnPAguU1",
        "colab_type": "code",
        "colab": {},
        "outputId": "91ea6270-a0e4-4460-b372-13406230aa49"
      },
      "source": [
        "%%writefile src/Loop_do_implicito_02.f95\n",
        "PROGRAM Loop_implicito\n",
        "  IMPLICIT NONE\n",
        "  INTEGER, PARAMETER :: nl=20, nc=5\n",
        "  REAL, DIMENSION (nl,nc) :: M      ! Declaraçao da matriz\n",
        "  CHARACTER(LEN=60) :: fmt1\n",
        "  INTEGER :: L, I \n",
        "  CALL RANDOM_NUMBER(M)  ! Preenche a matriz com número aleatorios entre 0 e 1.\n",
        "  M = nint(100.0*M)/10.0 ! Muda os valores para o intervalo de 0 a 10 \n",
        "  ! No formato abaixo a '/' cria uma nova linha\n",
        "  fmt1 = \"(1X,'LINHA', 5(4x,I3,5x), 20(/,1X, I4, 5(F10.3,2x)))\" \n",
        "  WRITE (*,fmt1)(I, I = 1,nc),((L, M(L,I),  I = 1,nc),  L = 1,nl)\n",
        "  STOP\n",
        "END PROGRAM Loop_implicito"
      ],
      "execution_count": 0,
      "outputs": [
        {
          "output_type": "stream",
          "text": [
            "Overwriting src/Loop_do_implicito_02.f95\n"
          ],
          "name": "stdout"
        }
      ]
    },
    {
      "cell_type": "code",
      "metadata": {
        "ExecuteTime": {
          "end_time": "2019-04-15T11:26:51.730511Z",
          "start_time": "2019-04-15T11:26:51.562786Z"
        },
        "id": "XrqUm-f4guU5",
        "colab_type": "code",
        "colab": {}
      },
      "source": [
        "# Compilando o program\n",
        "!f95 -o x -Wall -std=f2008 src/Loop_do_implicito_02.f95"
      ],
      "execution_count": 0,
      "outputs": []
    },
    {
      "cell_type": "code",
      "metadata": {
        "ExecuteTime": {
          "end_time": "2019-04-15T11:26:52.273853Z",
          "start_time": "2019-04-15T11:26:52.163734Z"
        },
        "id": "xGKZBbEeguVA",
        "colab_type": "code",
        "colab": {},
        "outputId": "de94611d-49d4-4ea1-a768-84c145ed990c"
      },
      "source": [
        "#Rodando o programa\n",
        "!./x"
      ],
      "execution_count": 0,
      "outputs": [
        {
          "output_type": "stream",
          "text": [
            " LINHA      1           2           3           4           5\r\n",
            "At line 11 of file src/Loop_do_implicito_02.f95 (unit = 6, file = 'stdout')\r\n",
            "Fortran runtime error: Expected REAL for item 8 in formatted transfer, got INTEGER\r\n",
            "(1X,'LINHA', 5(4x,I3,5x), 20(/,1X, I4, 5(F10.3,2x)))        \r\n",
            "                                         ^\r\n"
          ],
          "name": "stdout"
        }
      ]
    },
    {
      "cell_type": "markdown",
      "metadata": {
        "id": "lOWukY7_guVF",
        "colab_type": "text"
      },
      "source": [
        "## Tomadas de decisão com o `IF`\n",
        "\n",
        "Forma Geral:\n",
        "```Fortran\n",
        "IF (expressão lógica) THEN\n",
        "    bloco\n",
        "[ELSE IF (expressão lógica) THEN\n",
        "    bloco]...\n",
        "[ELSE\n",
        "    bloco]\n",
        "END IF\n",
        "```\n",
        "\n",
        "Exemplo:\n",
        "```Fortran\n",
        "IF (i < 0) THEN\n",
        "  PRINT*, \"Numero é negativo\"\n",
        "ELSE IF (i == 0) THEN\n",
        "  PRINT*, \"Numero é zero\"\n",
        "ELSE\n",
        "  PRINT*, \"Numero é positivo\"\n",
        "END IF\n",
        "```"
      ]
    },
    {
      "cell_type": "code",
      "metadata": {
        "ExecuteTime": {
          "end_time": "2019-04-15T11:27:16.239928Z",
          "start_time": "2019-04-15T11:27:16.230505Z"
        },
        "run_control": {
          "marked": false
        },
        "id": "5fhvSOh9guVG",
        "colab_type": "code",
        "colab": {},
        "outputId": "dd306777-dd01-4761-ec1d-d4d8b8cec9b3"
      },
      "source": [
        "%%writefile src/SeSenao.f95\n",
        "PROGRAM sesenao\n",
        "  IMPLICIT NONE\n",
        "  INTEGER :: idade\n",
        "  print *, \"Entre com sua idade\"\n",
        "  read *, idade\n",
        "    \n",
        "  IF (idade == 0) THEN\n",
        "      PRINT*, \"Oops!\"\n",
        "  ELSE IF (idade < 12 ) THEN\n",
        "      PRINT*, \"Você é uma criança\"\n",
        "  ELSE IF (idade < 18) THEN\n",
        "      PRINT*, \"Individuo menor de idade\"\n",
        "  ELSE IF (idade <= 18 ) THEN\n",
        "      PRINT*, \"Individuo maior de idade\"\n",
        "  ELSE IF (idade < 60 ) THEN\n",
        "      PRINT*, \"Você é uma adulto\"\n",
        "  ELSE\n",
        "      PRINT*, \"Você é um idoso\"\n",
        "  END IF\n",
        "  STOP\n",
        "END PROGRAM sesenao"
      ],
      "execution_count": 0,
      "outputs": [
        {
          "output_type": "stream",
          "text": [
            "Overwriting src/SeSenao.f95\n"
          ],
          "name": "stdout"
        }
      ]
    },
    {
      "cell_type": "code",
      "metadata": {
        "ExecuteTime": {
          "end_time": "2019-04-15T11:27:16.701567Z",
          "start_time": "2019-04-15T11:27:16.547659Z"
        },
        "run_control": {
          "marked": false
        },
        "id": "GdSBILsVguVK",
        "colab_type": "code",
        "colab": {}
      },
      "source": [
        "# Compilando o program\n",
        "!f95 -o x -Wall -std=f2008 src/SeSenao.f95"
      ],
      "execution_count": 0,
      "outputs": []
    },
    {
      "cell_type": "code",
      "metadata": {
        "ExecuteTime": {
          "end_time": "2019-04-15T11:27:20.454419Z",
          "start_time": "2019-04-15T11:27:20.343208Z"
        },
        "run_control": {
          "marked": false
        },
        "id": "KhNbAlpYguVN",
        "colab_type": "code",
        "colab": {},
        "outputId": "7a52b2ee-6348-44d0-a3ad-173dd39e8d5b"
      },
      "source": [
        "#Rodando o programa\n",
        "!echo \"18\" | ./x -"
      ],
      "execution_count": 0,
      "outputs": [
        {
          "output_type": "stream",
          "text": [
            " Entre com sua idade\r\n",
            " Individuo maior de idade\r\n"
          ],
          "name": "stdout"
        }
      ]
    },
    {
      "cell_type": "code",
      "metadata": {
        "ExecuteTime": {
          "end_time": "2019-04-10T12:21:45.745542Z",
          "start_time": "2019-04-10T12:21:45.637055Z"
        },
        "id": "ZNWzVkNVguVR",
        "colab_type": "code",
        "colab": {},
        "outputId": "8f8be975-fb64-4a4d-888e-18793db9bbde"
      },
      "source": [
        "#Rodando o programa\n",
        "!echo \"77\" | ./x -"
      ],
      "execution_count": 0,
      "outputs": [
        {
          "output_type": "stream",
          "text": [
            " Entre com sua idade\r\n",
            " Você é um idoso\r\n"
          ],
          "name": "stdout"
        }
      ]
    },
    {
      "cell_type": "markdown",
      "metadata": {
        "id": "L4LLaj2xguVY",
        "colab_type": "text"
      },
      "source": [
        "## Algumas Funções do Fortran\n",
        "\n",
        "A seguir apresentamos uma pequena tabela com algumas funções matemáticas do Fortran\n",
        "\n",
        "<!--\n",
        "| **Função** | **Descrição**                                    | **Exemplo**                           |\n",
        "|------------|--------------------------------------------------|---------------------------------------|\n",
        "| **ABS**    | Valor absoluto de $x$: $| x |$                   | **a=sqrt(3.0)**                       |\n",
        "| **SQRT**   | Raiz quadrada de $x$: $\\sqrt{x}$                 | **a=sqrt(3.0)**                       |\n",
        "| **EXP**    | Exponencial de $x$: $e^{x}$                      | **b=exp(-3.0)**                       |\n",
        "| **LOG**    | Logaritmo natural de $x$: $\\ln x$                | **c=log(2.0)**                        |\n",
        "| **LOG10**  | Logaritmo de $x$ na base 10: $\\log x$            | **c=log10(2.0)**                      |\n",
        "| **COS**    | Cosseno de $x$: $\\cos x$                         | **a=cos(2.0)**                        |\n",
        "| **SIN**    | Seno de $x$: $\\mbox{sen} x$                      | **a=sin(2.0)**                        |\n",
        "| **TAN**    | Tangente de $x$: $\\mbox{tg} x$                   | **a=tan(2.0)**                        |\n",
        "| **ACOS**   | Arco cosseno de $x$: $\\cos^{-1} x$               | **a=acos(2.0)**                       |\n",
        "| **ASIN**   | Arco seno de $x$: $\\mbox{sen}^{-1} x$            | **a=asin(2.0)**                       |\n",
        "| **ATAN**   | Arco tangente de $x$: $\\mbox{tg}^{-1} x$         | **a=atan(2.0)**                       |\n",
        "| **COSH**   | Cosseno hiperbólico de $x$: $\\cosh x$            | **a=cosh(2.0)**                       |\n",
        "| **SINH**   | Seno hiperbólico de $x$: $\\mbox{senh} x$         | **a=sinh(2.0)**                       |\n",
        "| **TANH**   | Tangente hiperbólica de $x$: $\\mbox{tgh} x$      | **a=tanh(2.0)**                       |\n",
        "| **INT**    | Converte para inteiro, truncando                 | **i=int(3.2) ! i=3**                  |\n",
        "| **REAL**   | Converte para real                               | **a=real(i)/j**                       |\n",
        "| **CMPLX**  | Converte para complexo                           | **c=cmplx(1.0,2.0)**                  |\n",
        "| **AINT**   | Trunca a parte decimal, retornando real          | **a=aint(3.2) ! a=3**                 |\n",
        "| **ANINT**  | Arredonda para o real mais próximo               | **a=anint(3.7) ! a=4.0**              |\n",
        "| **NINT**   | Arredonda para o inteiro mais próximo            | **i=anint(3.7) ! i=4**                |\n",
        "| **FLOOR**  | Maior inteiro menor igual seu argumento real     | **i=floor(3.7) ! i=3**                |\n",
        "| **MOD**    | **MOD(i,j)** resto da divisão inteira de i por j | **k=mod(3,2) !k=1**                   |\n",
        "| **SIGN**   | **SIGN(a,b)** retorna o sinal de b vezes $|a|$   | **c=sign(-2.35,3.0) ! c= 2.35**       |\n",
        "| **MAX**    | retorna o máximo de dois ou mais números         | **a=max(2.0,-4.0,3.0) ! a=3.0**       |\n",
        "| **MIN**    | retorna o mínimo de dois ou mais números         | **a=min(2.0,-4.0,3.0) ! a=-4.0**      |\n",
        "| **AIMAG**  | Retorna a parte imaginária de um complexo        | **a=aimag((2.0,-1.0)) ! a=-1.0**      |\n",
        "| **CONJG**  | Retorna o conjugado de um complexo               | **c=conjg((2.0,-1.0)) ! c=(2.0,1.0)** |\n",
        "\n",
        "-->\n",
        "\n",
        "\n",
        "\n",
        "### Funções de conversão\n",
        "\n",
        "\n",
        "\n",
        "| **Função**     | **Significado**                               | **Tipo do argumento** | **Tipo do resultado** |\n",
        "| -------------- | --------------------------------------------  | --------------------- | --------------------- |\n",
        "| **ABS(x)**     | **Valor absoluto de x**                       | **REAL**              | **REAL**              |\n",
        "| **INT(x)**     | **Parte inteiro de x (truncagem)**            | **REAL**              | **INTEIRO**           |\n",
        "| **NINT(x)**    | **Arredonda para o inteiro mais próximo de x**| **REAL**              | **INTEIRO**           |\n",
        "| **CEILING(x)** | **Menor inteiro superior a x**                | **REAL**              | **INTEIRO**           |\n",
        "| **FLOOR(x)**   | **Maior inteiro inferior a x**                | **REAL**              | **INTEIRO**           |\n",
        "| **REAL(k)**    | **Converte um inteiro em real**               | **INTEIRO**           | **REAL**              |\n",
        "\n",
        " \n",
        "\n",
        "### Funções de teste\n",
        "\n",
        "\n",
        "| **Função**        | **Significado**            | **Tipo do argumento** | **Tipo do resultado** |\n",
        "| ----------------- | -------------------------- | --------------------- | --------------------- |\n",
        "| **MOD (x, y)**    | **Resto da divisão x/y**     | **INTEIRO/REAL** | **INTEIRO/REAL** |\n",
        "| **MAX (x,y,z,…)** | **Determina o valor máximo** | **INTEIRO/REAL** | **INTEIRO/REAL** |\n",
        "| **MIN (x,y,z,…)** | **Determina o valor mínimo** |**INTEIRO/REAL** | **INTEIRO/REAL** |\n",
        "\n",
        " \n",
        "\n",
        "### Funções matemáticas\n",
        "\n",
        "\n",
        "\n",
        "| **Função**    | **Significado**                            | **Tipo do argumento**     | **Tipo do resultado** |\n",
        "| ------------- | ------------------------------------------ | ------------------------- | --------------------- |\n",
        "| **BESSEL_J0(x)** |**Função de Bessel de $1^a$ espécie**    | **REAL**                  | **REAL**              | \n",
        "| **BESSEL_J1(x)** |**Função de Bessel de $1^a$ espécie**    | **REAL**                  | **REAL**              |\n",
        "| **BESSEL_JN(N,X)** |**Função de Bessel de $1^a$ espécie**  | **REAL**                  | **REAL**              |\n",
        "| **BESSEL_Y0(x)** |**Função de Bessel de $2^a$ espécie**    | **REAL**                  | **REAL**              | \n",
        "| **BESSEL_Y1(x)** |**Função de Bessel de $2^a$ espécie**    | **REAL**                  | **REAL**              |\n",
        "| **BESSEL_YN(N,X)** |**Função de Bessel de $2^a$ espécie**  | **REAL**                  | **REAL**              |\n",
        "| **SQRT (x)**  | **Raiz quadrada de x**                     | **REAL**                  | **REAL**              |\n",
        "| **EXP (x)**   | **Exponencial, de x**                      | **REAL**                  | **REAL**              |\n",
        "| **LOG (x)**   | **Logaritmo neperiano, log_e(x) ou ln(x)** | **REAL**                  | **REAL**              |\n",
        "| **LOG10 (x)** | **Logaritmo decimal, log10 (x)**           | **REAL**                  | **REAL**              |\n",
        "| **SIN (x)**   | **Seno, sen x (radianos)**                 | **REAL**                  | **REAL**              |\n",
        "| **COS (x)**   | **Co-seno, cos x (radianos)**              | **REAL**                  | **REAL**              |\n",
        "| **TAN (x)**   | **Tangente, tg x (radianos)**              | **REAL**                  | **REAL**              |\n",
        "| **SINH (x)**  | **Seno hiperbólico, senh x (radianos)**    | **REAL**                  | **REAL**              |\n",
        "| **COSH (x)**  | **Co-seno hiperbólico, cosh x (radianos)** | **REAL**                  | **REAL**              |\n",
        "| **TANH (x)**  | **Tangente hiperbólica, tgh x (radianos)** | **REAL**                  | **REAL**              |\n",
        "| **ASIN (x)**  | **Arco-seno, arcsen x (valor principal)**  | **REAL**                  | **REAL**              |\n",
        "| **ACOS (x)**  | **Arco-co-seno, arccos x (valor principal)**| **REAL**                 | **REAL**              |\n",
        "| **ATAN (x)**  | **Arco-tangente, arctg x**                 | **REAL**                  | **REAL**              |\n",
        "\n",
        " \n",
        "Embora as funções matemáticas sejam geralmente aplicadas a números reais, algumas delas podem ser aplicadas a argumentos complexos, nomeadamente, `SQRT`, `SIN`, `COS`, `EXP`, `LOG` e `LOG10`. As funções de Bessel, estão disponiveis nos compiladores da GNU, em versões anteriores, entretanto elas só fazem parte da padronização do Fortran 2008. Versões anteriores não possuem essas funções como padrão.\n",
        "\n",
        " \n",
        "### Funções envolvendo complexos\n",
        "\n",
        "\n",
        "\n",
        "| **Função**      | **Significado**                              | **Tipo do argumento** | **Tipo do resultado** |\n",
        "| :---------------| :------------------------------------------- | :-------------------- | :-------------------- |\n",
        "| **ABS (z)**     | **Valor absoluto de z**                      | **COMPLEXO**          | **REAL**              |\n",
        "| **AIMAG (z)**   | **Retorna a parte imaginária de z**          | **COMPLEXO**          | **REAL**              |\n",
        "| **CMPLX (x,y)** | **Define um valor complexo $x+iy$**          | **REAL ou INTEIRO**   | **COMPLEXO**          |\n",
        "| **CONJG (z)**   | **Define o conjugado de z**                  | **COMPLEXO**          | **COMPLEXO**          |\n",
        "| **REAL (z)**    | **Retorna a parte real de z**                | **COMPLEXO**          | **REAL**              |\n",
        "\n",
        "\n",
        "\n",
        "# Alguns do novos recursos do Fortran 2008\n",
        "\n",
        "\n",
        "## Funções de Bessel\n",
        "\n",
        "As seguintes funções elementares foram adicionadas\n",
        "\n",
        "- `bessel_j0 (x)` retorna a função Bessel de primeira espécie e ordem zero para um valor real x.\n",
        "- `bessel_j1 (x)` retorna a função Bessel de primeira espécie e ordem um para um valor real x.\n",
        "- `bessel_jn (n, x)` retorna a função de Bessel de primeira espécie e ordem n para um valor real x.\n",
        "   - O argumento n deve ser um inteiro com um valor não-negativo.\n",
        "- `bessel_y0 (x)` retorna a função Bessel de segunda espécie e ordem zero para um valor real x que é positivo.\n",
        "- `bessel_y1 (x)` retorna a função Bessel de segunda espécie e ordem um para um valor real x que é positivo.\n",
        "- `bessel_yn (n, x)` retorna a função Bessel de segunda espécie e ordem n para valores reais x que são positivos. O argumento n deve ser um inteiro com um valor não negativo.\n",
        "\n",
        "Além disso, as funções `bessel_jn` e` bessel_yn` estão sobrecarregadas com estas funções transformacionais\n",
        "\n",
        "- `bessel_jn (n1, n2, x)` retorna uma matriz de rank-um das funções de Bessel de primeira espécie e as ordens $n1$, $n1 + 1$, $\\ldots$, $n2$ para valores reais $x$. Os argumentos $n1$ e $n2$ devem ser inteiros com valores não-negativos.\n",
        "\n",
        "- `bessel_yn (n1, n2, x)` retorna uma matriz de rank-um das funções de Bessel de segunda espécie e as ordens $n1$, $n1 + 1$, $\\ldots$, $n2$ para valores reais $x$. Os argumentos $n1$ e $n2$ devem ser inteiros com valores não-negativos.\n",
        "\n",
        "\n",
        "## Funções Error e gamma \n",
        "\n",
        "As seguintes funções elementares foram adicionadas\n",
        "\n",
        "- `erf(x)` retorna a função de erro para um valor real $x$, isto é, $\\frac{2}{\\sqrt{\\pi}}\\int\\limits_{0}^{x} \\exp(-t^2) \\, dt$.\n",
        "\n",
        "- `erfc(x)` retorna a função de erro complementar para um valor real $x$, ou seja, $1-erf(x) =\\frac{2}{\\sqrt{\\pi}}\\int\\limits_{0}^{x} \\exp(-t^2) \\, dt$.\n",
        "\n",
        "- `erfc_scaled(x)` retorna a função de erro complementar dimensionada exponencialmente para um valor real $x$, que $\\exp(x^2 ) \\frac{2}{\\sqrt{\\pi}}\\int\\limits_{0}^{x} \\exp(-t^2) \\, dt$.\n",
        "\n",
        "- `gamma(x) `retorna a função gama para um valor real $x$, isto é, $\\int\\limits_{0}^{\\infty} \\, t^{x-1} \\, \\exp(-t) \\, dt$.\n",
        "\n",
        "- `hypot(x, y)` retorna a função de distância euclidiana $\\sqrt{x^2+y^2}$ para valores reais $x$ e $y$, sem overflow ou estouro indevido.\n",
        "\n",
        "- `log_gamma (x)` retorna o logaritmo do valor absoluto da função gama para um valor real $x$ que não é um inteiro negativo ou zero.\n",
        "\n",
        "\n",
        "## Normas vetoriais euclidianas\n",
        "\n",
        "A seguinte função de transformação foi adicionada.\n",
        "\n",
        "- `norm2(x [, dim])` calcula as normas vetoriais euclidianas.\n",
        "   - x é um array real.\n",
        "   - dim é um inteiro escalar.\n",
        "\n",
        "Esta função é modelada na função transformacional `sum`, mas sem o argumento opcional `mask` e substituindo a soma pelo cálculo da norma vetorial euclidiana $\\sqrt{\\sum \\, x_i^{2}}$. O resultado tem o tipo de $x$  e a forma é determinada a partir da forma de $x$ e o valor de `dim` ou sua ausência, assim como para `sum`. O operador é aplicado a todos os elementos de $x$ para gerar um escalar ou para os elementos de cada seção de uma posição que abranja a dimensão `dim` para produzir um resultado de classificação reduzido em um. Recomenda-se que o resultado seja razoavelmente preciso, mesmo que a computação de alguns dos quadrados dos elementos resulte em estouro ou estouro negativo.\n",
        "\n",
        "## Paridade\n",
        "\n",
        "A seguinte função de transformação foi adicionada.\n",
        "\n",
        "- `Resultado = PARITY (mask [, dim])` testa o número de valores verdadeiros sendo ímpares.\n",
        "   - `mask` é um array lógico.\n",
        "   - `dim` é um inteiro escalar.\n",
        "\n",
        "- `Resultado`\n",
        "\n",
        "O `Resultado` tem os mesmos parâmetros de tipo e tipo de máscara. É um escalar se `dim` não aparecer; caso contrário, o resultado terá um `RANK` $n-1$ e a forma [$d_1$, $d_2$, $\\ldots$, $d_{dim-1}$, $d_{dim+1}$, $\\ldots$, $d_n$] em que [$d_1$, $d_2$, $\\ldots$, $d_n$] é a forma da máscara.\n",
        "\n",
        "O `Resultado` de `PARITY(mask)`) tem o valor `.TRUE` se houver um número ímpar de elementos da máscara verdadeiros; caso contrário, `.FALSE`.\n",
        "\n",
        "Se a máscara tiver um `RANK` 1, `PARITY(mask, dim)` é igual a `PARITY(mask)`. Caso contrário, o valor do elemento ($s_1$, $s_2$, $\\ldots$, $s_{dim-1}$, $s_{dim+1}$, $\\ldots$, $s_n$)) de `PARITY(mask, dim)` é igual a `PARITY(mask`($s_1$, $s_2$, $\\ldots$, $s_{dim-1}$, $s_{dim+1}$, $\\ldots$, $s_n$)).\n",
        "\n",
        "<!--\n",
        "Esta função é modelada na função de transformação `all`, substituindo o teste para todos os valores que são verdadeiros com o teste para o número ímpar  de valores verdadeiros do teste. O resultado tem o tipo de `mask` e a forma é determinada a partir da forma de `mask` e o valor de `dim` ou sua ausência, assim como para `all`. O operador é aplicado a todos os elementos de `mask` para produzir um escalar ou para os elementos de cada seção de uma posição que abranja a dimensão `dim` para produzir um resultado de classificação reduzido em um.\n",
        "-->\n",
        "\n",
        "Exemplo da função `PARITY`:\n",
        "\n",
        "Considere a seguinte matriz lógica de teste $A$, ou seja, a `MASK`:\n",
        "\n",
        "\\begin{equation}\n",
        "A =\\begin{pmatrix}\n",
        "T & F & T \\\\\n",
        "T & T & F\n",
        "\\end{pmatrix}\n",
        "\\end{equation}\n",
        "\n",
        "e $T$ tem o valor `.TRUE.` e $F$ tem o valor `.FALSE.`.\n",
        "\n",
        "Nesse caso, `PARITY(A, DIM = 1)` tem o valor `[F, T, T]` e `PARITY(A, DIM = 2)` tem o valor `[F, F]` e `PARITY(A)` tem o valor `[F]`.\n",
        "\n",
        "\n",
        "```fortran\n",
        "program test_parity\n",
        "  logical :: x(2) = [ .true., .false. ]\n",
        "  print *, parity(x) ! T\n",
        "end program\n",
        "```\n",
        "\n",
        "**EXEMPLOS:** Considere os seguintes exemplos das outras funções apresentadas acima:"
      ]
    },
    {
      "cell_type": "code",
      "metadata": {
        "ExecuteTime": {
          "end_time": "2019-04-10T12:30:21.939636Z",
          "start_time": "2019-04-10T12:30:21.929524Z"
        },
        "id": "LVHy6tKqguVZ",
        "colab_type": "code",
        "colab": {},
        "outputId": "80407cf6-d2b4-4336-e701-94a372157a20"
      },
      "source": [
        "%%writefile src/Bessel_teste.f95\n",
        "program test_besjn\n",
        "  real :: x = 0.0\n",
        "  integer :: i\n",
        "  print *, 'Bessel J0(0.0) = ', bessel_j0(x)\n",
        "  print *, 'Bessel J1(0.0) = ', bessel_j1(x)\n",
        "  print *,\n",
        "  do i = 0, 9\n",
        "     print '(1x,a8,i1,a8,F13.9)', \"Bessel J\", i,\"(0.0) = \", bessel_jn(i,x)\n",
        "  end do\n",
        "  stop\n",
        "end program test_besjn"
      ],
      "execution_count": 0,
      "outputs": [
        {
          "output_type": "stream",
          "text": [
            "Overwriting src/Bessel_teste.f95\n"
          ],
          "name": "stdout"
        }
      ]
    },
    {
      "cell_type": "code",
      "metadata": {
        "ExecuteTime": {
          "end_time": "2019-04-10T12:30:22.976500Z",
          "start_time": "2019-04-10T12:30:22.826802Z"
        },
        "id": "HIdOibXNguVd",
        "colab_type": "code",
        "colab": {}
      },
      "source": [
        "# Compilando o program\n",
        "!f95 -Wall -Waliasing -pedantic -Warray-bounds -Wsurprising -Wunderflow -fcheck=all -std=f2008 -o x src/Bessel_teste.f95"
      ],
      "execution_count": 0,
      "outputs": []
    },
    {
      "cell_type": "code",
      "metadata": {
        "ExecuteTime": {
          "end_time": "2019-04-10T12:30:23.579223Z",
          "start_time": "2019-04-10T12:30:23.462614Z"
        },
        "id": "u2yVHpSxguVf",
        "colab_type": "code",
        "colab": {},
        "outputId": "89e2f96c-b6ac-4a79-fed0-0a9b139ad0ec"
      },
      "source": [
        "#Vamos rodar o código\n",
        "! ./x"
      ],
      "execution_count": 0,
      "outputs": [
        {
          "output_type": "stream",
          "text": [
            " Bessel J0(0.0) =    1.00000000    \r\n",
            " Bessel J1(0.0) =    0.00000000    \r\n",
            "\r\n",
            " Bessel J0(0.0) =   1.000000000\r\n",
            " Bessel J1(0.0) =   0.000000000\r\n",
            " Bessel J2(0.0) =   0.000000000\r\n",
            " Bessel J3(0.0) =   0.000000000\r\n",
            " Bessel J4(0.0) =   0.000000000\r\n",
            " Bessel J5(0.0) =   0.000000000\r\n",
            " Bessel J6(0.0) =   0.000000000\r\n",
            " Bessel J7(0.0) =   0.000000000\r\n",
            " Bessel J8(0.0) =   0.000000000\r\n",
            " Bessel J9(0.0) =   0.000000000\r\n"
          ],
          "name": "stdout"
        }
      ]
    },
    {
      "cell_type": "code",
      "metadata": {
        "ExecuteTime": {
          "end_time": "2019-04-10T12:33:38.480117Z",
          "start_time": "2019-04-10T12:33:38.471405Z"
        },
        "id": "c1ByQb_4guVj",
        "colab_type": "code",
        "colab": {},
        "outputId": "19a5be08-6262-4d39-e9ab-57a8f05ac246"
      },
      "source": [
        "%%writefile src/Somar.f95\n",
        "PROGRAM Somar\n",
        "  IMPLICIT NONE\n",
        "  INTEGER :: i, n=100000\n",
        "  REAL    :: dx=0.0001, x=0.0\n",
        "  DO i=1,n\n",
        "    x = x + dx\n",
        "  END DO\n",
        "  PRINT *, \"Soma = \", x\n",
        "  PRINT *, \" Valor esperado = 10.0000000\"\n",
        "STOP\n",
        "END PROGRAM Somar"
      ],
      "execution_count": 0,
      "outputs": [
        {
          "output_type": "stream",
          "text": [
            "Overwriting src/Somar.f95\n"
          ],
          "name": "stdout"
        }
      ]
    },
    {
      "cell_type": "code",
      "metadata": {
        "ExecuteTime": {
          "end_time": "2019-04-10T12:34:50.127540Z",
          "start_time": "2019-04-10T12:34:49.960024Z"
        },
        "id": "rIqMe9vMguVn",
        "colab_type": "code",
        "colab": {}
      },
      "source": [
        "# Compilando o program\n",
        "!f95 -Wall -Waliasing -pedantic -Warray-bounds -Wsurprising -Wunderflow -fcheck=all -std=f2008 -o x src/Somar.f95"
      ],
      "execution_count": 0,
      "outputs": []
    },
    {
      "cell_type": "code",
      "metadata": {
        "ExecuteTime": {
          "end_time": "2019-04-10T12:34:59.486105Z",
          "start_time": "2019-04-10T12:34:50.601649Z"
        },
        "id": "t2jzP-DEguVq",
        "colab_type": "code",
        "colab": {},
        "outputId": "b38229f0-0ad9-4c01-f9a4-998a966c1e6a"
      },
      "source": [
        "%%timeit\n",
        "!./x\n",
        "# O comando acima encontra o tempo médio gasto pelo programa para rodar"
      ],
      "execution_count": 0,
      "outputs": [
        {
          "output_type": "stream",
          "text": [
            " Soma =    10.0063105    \n",
            "  Valor esperado = 10.0000000\n",
            " Soma =    10.0063105    \n",
            "  Valor esperado = 10.0000000\n",
            " Soma =    10.0063105    \n",
            "  Valor esperado = 10.0000000\n",
            " Soma =    10.0063105    \n",
            "  Valor esperado = 10.0000000\n",
            " Soma =    10.0063105    \n",
            "  Valor esperado = 10.0000000\n",
            " Soma =    10.0063105    \n",
            "  Valor esperado = 10.0000000\n",
            " Soma =    10.0063105    \n",
            "  Valor esperado = 10.0000000\n",
            " Soma =    10.0063105    \n",
            "  Valor esperado = 10.0000000\n",
            " Soma =    10.0063105    \n",
            "  Valor esperado = 10.0000000\n",
            " Soma =    10.0063105    \n",
            "  Valor esperado = 10.0000000\n",
            " Soma =    10.0063105    \n",
            "  Valor esperado = 10.0000000\n",
            " Soma =    10.0063105    \n",
            "  Valor esperado = 10.0000000\n",
            " Soma =    10.0063105    \n",
            "  Valor esperado = 10.0000000\n",
            " Soma =    10.0063105    \n",
            "  Valor esperado = 10.0000000\n",
            " Soma =    10.0063105    \n",
            "  Valor esperado = 10.0000000\n",
            " Soma =    10.0063105    \n",
            "  Valor esperado = 10.0000000\n",
            " Soma =    10.0063105    \n",
            "  Valor esperado = 10.0000000\n",
            " Soma =    10.0063105    \n",
            "  Valor esperado = 10.0000000\n",
            " Soma =    10.0063105    \n",
            "  Valor esperado = 10.0000000\n",
            " Soma =    10.0063105    \n",
            "  Valor esperado = 10.0000000\n",
            " Soma =    10.0063105    \n",
            "  Valor esperado = 10.0000000\n",
            " Soma =    10.0063105    \n",
            "  Valor esperado = 10.0000000\n",
            " Soma =    10.0063105    \n",
            "  Valor esperado = 10.0000000\n",
            " Soma =    10.0063105    \n",
            "  Valor esperado = 10.0000000\n",
            " Soma =    10.0063105    \n",
            "  Valor esperado = 10.0000000\n",
            " Soma =    10.0063105    \n",
            "  Valor esperado = 10.0000000\n",
            " Soma =    10.0063105    \n",
            "  Valor esperado = 10.0000000\n",
            " Soma =    10.0063105    \n",
            "  Valor esperado = 10.0000000\n",
            " Soma =    10.0063105    \n",
            "  Valor esperado = 10.0000000\n",
            " Soma =    10.0063105    \n",
            "  Valor esperado = 10.0000000\n",
            " Soma =    10.0063105    \n",
            "  Valor esperado = 10.0000000\n",
            " Soma =    10.0063105    \n",
            "  Valor esperado = 10.0000000\n",
            " Soma =    10.0063105    \n",
            "  Valor esperado = 10.0000000\n",
            " Soma =    10.0063105    \n",
            "  Valor esperado = 10.0000000\n",
            " Soma =    10.0063105    \n",
            "  Valor esperado = 10.0000000\n",
            " Soma =    10.0063105    \n",
            "  Valor esperado = 10.0000000\n",
            " Soma =    10.0063105    \n",
            "  Valor esperado = 10.0000000\n",
            " Soma =    10.0063105    \n",
            "  Valor esperado = 10.0000000\n",
            " Soma =    10.0063105    \n",
            "  Valor esperado = 10.0000000\n",
            " Soma =    10.0063105    \n",
            "  Valor esperado = 10.0000000\n",
            " Soma =    10.0063105    \n",
            "  Valor esperado = 10.0000000\n",
            " Soma =    10.0063105    \n",
            "  Valor esperado = 10.0000000\n",
            " Soma =    10.0063105    \n",
            "  Valor esperado = 10.0000000\n",
            " Soma =    10.0063105    \n",
            "  Valor esperado = 10.0000000\n",
            " Soma =    10.0063105    \n",
            "  Valor esperado = 10.0000000\n",
            " Soma =    10.0063105    \n",
            "  Valor esperado = 10.0000000\n",
            " Soma =    10.0063105    \n",
            "  Valor esperado = 10.0000000\n",
            " Soma =    10.0063105    \n",
            "  Valor esperado = 10.0000000\n",
            " Soma =    10.0063105    \n",
            "  Valor esperado = 10.0000000\n",
            " Soma =    10.0063105    \n",
            "  Valor esperado = 10.0000000\n",
            " Soma =    10.0063105    \n",
            "  Valor esperado = 10.0000000\n",
            " Soma =    10.0063105    \n",
            "  Valor esperado = 10.0000000\n",
            " Soma =    10.0063105    \n",
            "  Valor esperado = 10.0000000\n",
            " Soma =    10.0063105    \n",
            "  Valor esperado = 10.0000000\n",
            " Soma =    10.0063105    \n",
            "  Valor esperado = 10.0000000\n",
            " Soma =    10.0063105    \n",
            "  Valor esperado = 10.0000000\n",
            " Soma =    10.0063105    \n",
            "  Valor esperado = 10.0000000\n",
            " Soma =    10.0063105    \n",
            "  Valor esperado = 10.0000000\n",
            " Soma =    10.0063105    \n",
            "  Valor esperado = 10.0000000\n",
            " Soma =    10.0063105    \n",
            "  Valor esperado = 10.0000000\n",
            " Soma =    10.0063105    \n",
            "  Valor esperado = 10.0000000\n",
            " Soma =    10.0063105    \n",
            "  Valor esperado = 10.0000000\n",
            " Soma =    10.0063105    \n",
            "  Valor esperado = 10.0000000\n",
            " Soma =    10.0063105    \n",
            "  Valor esperado = 10.0000000\n",
            " Soma =    10.0063105    \n",
            "  Valor esperado = 10.0000000\n",
            " Soma =    10.0063105    \n",
            "  Valor esperado = 10.0000000\n",
            " Soma =    10.0063105    \n",
            "  Valor esperado = 10.0000000\n",
            " Soma =    10.0063105    \n",
            "  Valor esperado = 10.0000000\n",
            " Soma =    10.0063105    \n",
            "  Valor esperado = 10.0000000\n",
            " Soma =    10.0063105    \n",
            "  Valor esperado = 10.0000000\n",
            " Soma =    10.0063105    \n",
            "  Valor esperado = 10.0000000\n",
            " Soma =    10.0063105    \n",
            "  Valor esperado = 10.0000000\n",
            " Soma =    10.0063105    \n",
            "  Valor esperado = 10.0000000\n",
            " Soma =    10.0063105    \n",
            "  Valor esperado = 10.0000000\n",
            " Soma =    10.0063105    \n",
            "  Valor esperado = 10.0000000\n",
            " Soma =    10.0063105    \n",
            "  Valor esperado = 10.0000000\n",
            " Soma =    10.0063105    \n",
            "  Valor esperado = 10.0000000\n",
            " Soma =    10.0063105    \n",
            "  Valor esperado = 10.0000000\n",
            " Soma =    10.0063105    \n",
            "  Valor esperado = 10.0000000\n",
            " Soma =    10.0063105    \n",
            "  Valor esperado = 10.0000000\n",
            " Soma =    10.0063105    \n",
            "  Valor esperado = 10.0000000\n",
            "109 ms ± 1.84 ms per loop (mean ± std. dev. of 7 runs, 10 loops each)\n"
          ],
          "name": "stdout"
        }
      ]
    },
    {
      "cell_type": "code",
      "metadata": {
        "ExecuteTime": {
          "end_time": "2019-04-10T12:35:39.073311Z",
          "start_time": "2019-04-10T12:35:38.962011Z"
        },
        "id": "EB46bhWIguVs",
        "colab_type": "code",
        "colab": {},
        "outputId": "3cb122c1-e9d7-4a52-8561-657ffb445c0f"
      },
      "source": [
        "%%time\n",
        "!./x\n",
        "# O comando acima determina o tempo gasto pelo programa para rodar"
      ],
      "execution_count": 0,
      "outputs": [
        {
          "output_type": "stream",
          "text": [
            " Soma =    10.0063105    \n",
            "  Valor esperado = 10.0000000\n",
            "CPU times: user 4 ms, sys: 0 ns, total: 4 ms\n",
            "Wall time: 106 ms\n"
          ],
          "name": "stdout"
        }
      ]
    },
    {
      "cell_type": "code",
      "metadata": {
        "ExecuteTime": {
          "end_time": "2019-04-10T12:35:44.894418Z",
          "start_time": "2019-04-10T12:35:44.741658Z"
        },
        "id": "pLvL-s8IguVv",
        "colab_type": "code",
        "colab": {}
      },
      "source": [
        "# Compilando o program com uma opção de otimização\n",
        "!f95 -O3 -std=f2008 -o y src/Somar.f95"
      ],
      "execution_count": 0,
      "outputs": []
    },
    {
      "cell_type": "code",
      "metadata": {
        "ExecuteTime": {
          "end_time": "2019-04-10T12:35:45.881951Z",
          "start_time": "2019-04-10T12:35:45.647215Z"
        },
        "id": "3WrJinpxguVx",
        "colab_type": "code",
        "colab": {},
        "outputId": "b9023393-035f-40de-fdca-3c6adbca5dae"
      },
      "source": [
        "%%time\n",
        "!./y\n",
        "# Agora vamos apagar esse executável\n",
        "! rm -f y"
      ],
      "execution_count": 0,
      "outputs": [
        {
          "output_type": "stream",
          "text": [
            " Soma =    10.0063105    \n",
            "  Valor esperado = 10.0000000\n",
            "CPU times: user 8 ms, sys: 8 ms, total: 16 ms\n",
            "Wall time: 227 ms\n"
          ],
          "name": "stdout"
        }
      ]
    },
    {
      "cell_type": "markdown",
      "metadata": {
        "id": "_-FPwlNSguV0",
        "colab_type": "text"
      },
      "source": [
        "Observem o erro dessa soma o qual deve-se a aritmética de ponto flutuante."
      ]
    },
    {
      "cell_type": "markdown",
      "metadata": {
        "id": "Lf4XhQg7guV1",
        "colab_type": "text"
      },
      "source": [
        "## Gerador de números aleatórios\n",
        "\n",
        "\n",
        "Muitas vezes surgem problemas que exigem a geração de um número aleatório ou uma série de números aleatórios. O Fortran 90 contém um subprograma para este propósito. O gerador de números aleatórios produz um número pseudo-aleatório (é impossível ter um algoritmo verdadeiramente aleatório) distribuído entre 0 e 1. O gerador de números aleatórios é iniciado pelo subprograma `RANDOM_SEED`. `RANDOM_SEED`, quando chamado, inicializa o gerador de números aleatórios. Três argumentos são possíveis ao chamar `RANDOM_SEED`.\n",
        "\n",
        "```fortran\n",
        "    CALL RANDOM_SEED (SIZE, GET, PUT)\n",
        "```\n",
        "\n",
        "Se chamado sem um argumento, `RANDOM_SEED` reinicia o gerador de números. Se houver um argumento, ele consultará o gerador de números aleatórios. `SIZE` irá mostrar o número de inteiros usados para armazenar a semente. `GET` dará o valor atual da semente. `PUT` permite o controle da semente. `PUT` é o único comando que fornece entrada. Indica o valor a ser usado como a semente inicial para o gerador de números aleatórios. `PUT` deve ser um array unidimensional. semente aleatória só precisa ser chamada uma vez em um programa. É usado para gerar o primeiro número aleatório. Qualquer número aleatório gerado após o primeiro usará o número aleatório anterior como semente.\n",
        "\n",
        "A subroutina `RANDOM_NUMBER` é o gerador real de números aleatórios. É preciso uma semente (ou mais de um se criar uma matriz de números aleatórios) e gera um número pseudo-aleatório entre 0 e 1. A forma geral é:\n",
        "\n",
        "```fortran\n",
        "    CALL RANDOM_NUMBER(argument)\n",
        "```\n",
        "\n",
        "O argumento pode ser uma única variável, uma matriz ou itens dentro de uma matriz. Ele conterá o número pseudo-aleatório baseado na semente gerada usando `RANDOM_SEED`. Se uma matriz for dada, a matriz será preenchida com números aleatórios. Aqui está um exemplo para gerar 5 números aleatórios usando uma semente predeterminada.\n",
        "\n",
        "```fortran\n",
        "    INTEGER, DIMENSION (1) :: seed = (/3/)\n",
        "    REAL :: num\n",
        "\n",
        "    CALL RANDOM_SEED (PUT=seed)\n",
        "\n",
        "    DO n = 1, 5\n",
        "\n",
        "        CALL RANDOM_NUMBER(num)\n",
        "\n",
        "        PRINT *, num\n",
        "\n",
        "    END DO\n",
        "```"
      ]
    },
    {
      "cell_type": "code",
      "metadata": {
        "ExecuteTime": {
          "end_time": "2019-04-15T10:51:32.835896Z",
          "start_time": "2019-04-15T10:51:32.820454Z"
        },
        "id": "jTte2z42guV2",
        "colab_type": "code",
        "colab": {},
        "outputId": "f38ca99f-66f8-4cd1-e0e1-d07dd096383f"
      },
      "source": [
        "%%writefile src/gerador_num_rand.f95\n",
        "PROGRAM gerador_de_numero_aleatorio\n",
        "  IMPLICIT NONE\n",
        "  INTEGER, PARAMETER :: n=4\n",
        "  INTEGER :: i, j, seed_size\n",
        "  INTEGER, DIMENSION(:), ALLOCATABLE :: seed\n",
        "  REAL :: num\n",
        "  REAL, DIMENSION(n,n) :: mat\n",
        "  CHARACTER(len=50) :: fmt\n",
        "   \n",
        "  CALL RANDOM_SEED() ! inicializa com a semente padrão do sistema\n",
        "  CALL RANDOM_SEED(size=seed_size) ! determina o tamanho da semente\n",
        "\n",
        "  WRITE(*,*) 'O tamanho da semente do sistema é: ', seed_size   \n",
        "  ALLOCATE(seed(seed_size))  ! Alocação dinâmica da matriz\n",
        "\n",
        "  CALL RANDOM_SEED(get=seed) ! Obtém a semente gerada pelo sistema \n",
        "  WRITE(*,*) 'A semente do sistema é: ', seed   ! imprime a semente gerada pelo sistema\n",
        "  seed=314159265             ! Altera a semente\n",
        "  CALL RANDOM_SEED(put=seed) ! Define ela como a semente corrente\n",
        "\n",
        "  DO i=1,5\n",
        "     CALL RANDOM_NUMBER(num)\n",
        "     PRINT *, num\n",
        "  END DO\n",
        "\n",
        "  seed=753975197             ! Altera a semente\n",
        "  CALL RANDOM_SEED(put=seed) ! Define ela como a semente corrente\n",
        "\n",
        "  CALL RANDOM_NUMBER(mat)\n",
        "  Mat = NINT(100*mat)/10.0\n",
        "  WRITE(fmt,'(a1,i1,a10)')'(', n,'(f7.2,3x))'\n",
        "  DO i=1,n\n",
        "     WRITE(*,fmt) (Mat(i,j), j=1,n)\n",
        "  END DO\n",
        "  \n",
        "  CALL RANDOM_SEED(get=seed) ! get current seed\n",
        "  WRITE(*,*) 'A semente do sistema é: ', seed   ! imprime a semente gerada pelo sistema\n",
        "  DEALLOCATE(seed)           ! É seguro desfazer a alocação dinâmica\n",
        "END PROGRAM gerador_de_numero_aleatorio"
      ],
      "execution_count": 0,
      "outputs": [
        {
          "output_type": "stream",
          "text": [
            "Overwriting src/gerador_num_rand.f95\n"
          ],
          "name": "stdout"
        }
      ]
    },
    {
      "cell_type": "code",
      "metadata": {
        "ExecuteTime": {
          "end_time": "2019-04-15T10:51:44.436974Z",
          "start_time": "2019-04-15T10:51:43.187361Z"
        },
        "id": "XXyMpkREguV5",
        "colab_type": "code",
        "colab": {}
      },
      "source": [
        "# Compilando o program\n",
        "! f95 -Wall -Waliasing -pedantic -Warray-bounds -Wsurprising -Wunderflow -fcheck=all -std=f2008 -o x src/gerador_num_rand.f95"
      ],
      "execution_count": 0,
      "outputs": []
    },
    {
      "cell_type": "code",
      "metadata": {
        "ExecuteTime": {
          "end_time": "2019-04-15T10:51:44.926445Z",
          "start_time": "2019-04-15T10:51:44.762869Z"
        },
        "id": "WI5UKkPLguV7",
        "colab_type": "code",
        "colab": {},
        "outputId": "2865eb9d-f892-4da7-d2f9-09c12460bc27"
      },
      "source": [
        "# Agora vamos rodar o programa\n",
        "! ./x"
      ],
      "execution_count": 0,
      "outputs": [
        {
          "output_type": "stream",
          "text": [
            " O tamanho da semente do sistema é:           12\n",
            " A semente do sistema é:    287027030  -719361131   574274270   292048305   185733336 -1598963619   572469522  1446716853   437591706  1398099429   570932571 -1177695979\n",
            "  0.356742322    \n",
            "  0.714799643    \n",
            "  0.537616909    \n",
            "   5.54269552E-02\n",
            "  0.105698287    \n",
            "   0.80      9.00      1.50      9.50\n",
            "   0.70      0.30      1.90      8.90\n",
            "   5.90      9.80      2.70      5.00\n",
            "   9.60      5.20      9.70      8.40\n",
            " A semente do sistema é:    753975197   753975197   753975197   753975197   742506268   744079341   739164000   746766315   738705379   742178658   739032914   749912013\n"
          ],
          "name": "stdout"
        }
      ]
    },
    {
      "cell_type": "markdown",
      "metadata": {
        "id": "gQVBlIEqguV_",
        "colab_type": "text"
      },
      "source": [
        "Este programa irá gerar e imprimir cinco números aleatórios. O primeiro é encontrado usando 3 como a semente, e os seguintes usam o número gerado preciosamente como a semente. `num` contém o valor do número aleatório gerado e é atualizado para cada loop. Ao controlar a semente, os números aleatórios gerados serão sempre iguais. Um compilador irá produzir o mesmo número aleatório dado a mesma semente."
      ]
    },
    {
      "cell_type": "code",
      "metadata": {
        "ExecuteTime": {
          "end_time": "2019-01-24T19:25:11.818347Z",
          "start_time": "2019-01-24T19:25:11.810486Z"
        },
        "id": "33ymKvfxguWA",
        "colab_type": "code",
        "colab": {},
        "outputId": "a6a558b3-07c3-4e47-ce52-558d3212e343"
      },
      "source": [
        "%%writefile src/gerador_num_rand_mat.f95\n",
        "PROGRAM gerador_de_numero_aleatorio\n",
        "  IMPLICIT NONE\n",
        "  INTEGER, PARAMETER :: n=4\n",
        "  INTEGER :: i, j\n",
        "  REAL, DIMENSION(n,n) :: mat\n",
        "  CHARACTER(len=50) :: fmt\n",
        "        \n",
        "  CALL RANDOM_NUMBER(mat)\n",
        "  Mat = NINT(100*mat)/10.0\n",
        "  WRITE(fmt,'(a1,i1,a10)')'(', n,'(f7.2,3x))'\n",
        "  DO i=1,n\n",
        "     WRITE(*,fmt) (Mat(i,j), j=1,n)\n",
        "  END DO\n",
        "END PROGRAM gerador_de_numero_aleatorio"
      ],
      "execution_count": 0,
      "outputs": [
        {
          "output_type": "stream",
          "text": [
            "Overwriting src/gerador_num_rand_mat.f95\n"
          ],
          "name": "stdout"
        }
      ]
    },
    {
      "cell_type": "code",
      "metadata": {
        "ExecuteTime": {
          "end_time": "2019-04-15T10:51:59.218238Z",
          "start_time": "2019-04-15T10:51:59.017294Z"
        },
        "id": "RWiBdMxGguWF",
        "colab_type": "code",
        "colab": {}
      },
      "source": [
        "# Compilando o program\n",
        "! f95 -Wall -Waliasing -pedantic -Warray-bounds -Wsurprising -Wunderflow -fcheck=all -std=f2008 -o x src/gerador_num_rand_mat.f95"
      ],
      "execution_count": 0,
      "outputs": []
    },
    {
      "cell_type": "code",
      "metadata": {
        "ExecuteTime": {
          "end_time": "2019-04-15T10:51:59.374423Z",
          "start_time": "2019-04-15T10:51:59.265292Z"
        },
        "id": "8XO89n7_guWH",
        "colab_type": "code",
        "colab": {},
        "outputId": "5df19082-628c-4e94-d967-568e3d44cfe7"
      },
      "source": [
        "# Rodando o programa\n",
        "! ./x"
      ],
      "execution_count": 0,
      "outputs": [
        {
          "output_type": "stream",
          "text": [
            "  10.00      3.70      3.50      9.00\r\n",
            "   5.70      4.80      3.40      3.90\r\n",
            "   9.70      0.70      2.20      4.50\r\n",
            "   7.50      0.10      1.30      6.60\r\n"
          ],
          "name": "stdout"
        }
      ]
    },
    {
      "cell_type": "code",
      "metadata": {
        "ExecuteTime": {
          "end_time": "2019-02-08T13:24:56.309712Z",
          "start_time": "2019-02-08T13:24:56.276431Z"
        },
        "id": "d8lKjrQOguWK",
        "colab_type": "code",
        "colab": {},
        "outputId": "01abda95-f129-4356-8039-76a7055980aa"
      },
      "source": [
        "%%writefile src/test_random_init.f95\n",
        "! Page: https://www.scivision.co/fortran-random-seed-intialization/\n",
        "PROGRAM testinit\n",
        "  IMPLICIT NONE\n",
        "\n",
        "  CALL init_random_seed()\n",
        "\n",
        "CONTAINS\n",
        "\n",
        "  SUBROUTINE init_random_seed()\n",
        "    IMPLICIT NONE\n",
        "    ! NOTE: this subroutine is replaced by\n",
        "    ! \"call random_init()\" intrinsic of Fortran 2018\n",
        "    INTEGER :: n, u,ios\n",
        "    INTEGER, ALLOCATABLE :: seed(:)\n",
        "\n",
        "    CALL random_SEED(size=n)\n",
        "    ALLOCATE(seed(n))\n",
        "\n",
        "    OPEN(newunit=u, file='/dev/urandom', access=\"stream\", &\n",
        "         form=\"unformatted\", action=\"read\", status=\"old\", iostat=ios)\n",
        "    IF (ios/=0) error STOP 'failed to open random source generator'\n",
        "\n",
        "    READ(u,iostat=ios) seed\n",
        "    IF (ios/=0) error STOP 'failed to read random source generator'\n",
        "\n",
        "    CLOSE(u)\n",
        "\n",
        "    CALL random_SEED(put=seed)\n",
        "\n",
        "    PRINT *,'seed: ',seed    ! for debug/test\n",
        "\n",
        "  END SUBROUTINE init_random_seed\n",
        "\n",
        "END PROGRAM testinit"
      ],
      "execution_count": 0,
      "outputs": [
        {
          "output_type": "stream",
          "text": [
            "Overwriting src/test_random_init.f95\n"
          ],
          "name": "stdout"
        }
      ]
    },
    {
      "cell_type": "code",
      "metadata": {
        "ExecuteTime": {
          "end_time": "2019-02-08T13:25:10.310550Z",
          "start_time": "2019-02-08T13:25:10.134542Z"
        },
        "id": "cDyD9XDQguWN",
        "colab_type": "code",
        "colab": {}
      },
      "source": [
        "# Compilando o program\n",
        "! f95 -Wall -Waliasing -pedantic -Warray-bounds -Wsurprising -Wunderflow -fcheck=all -std=f2008 -o x src/test_random_init.f95"
      ],
      "execution_count": 0,
      "outputs": []
    },
    {
      "cell_type": "code",
      "metadata": {
        "ExecuteTime": {
          "end_time": "2019-02-08T13:25:12.687145Z",
          "start_time": "2019-02-08T13:25:12.572964Z"
        },
        "id": "YhwAPUYnguWP",
        "colab_type": "code",
        "colab": {},
        "outputId": "6ec724cd-7c52-451e-c656-bb535d2e8099"
      },
      "source": [
        "# Rodando o programa\n",
        "! ./x"
      ],
      "execution_count": 0,
      "outputs": [
        {
          "output_type": "stream",
          "text": [
            " seed:   1568020951    -3413556   454452680 -1734732046 -1029404746 -1778758348  1020218270  1615300652  -432871485  1458740329   529480801   218410628   985426498 -1706335380   782603005  1785716133    40052719 -1571453074  1361667779  1187713874  -709458368  1949949184   302053553  1631241085   214882290  2132425263  -248636375  1581950101  -169893246  1225492688  1746680895   279135064  -675187894\r\n"
          ],
          "name": "stdout"
        }
      ]
    },
    {
      "cell_type": "markdown",
      "metadata": {
        "id": "hZpvUQg8guWR",
        "colab_type": "text"
      },
      "source": [
        "Veja alguns exemplos do Fortran 2018 em: [Fortran 2018 Examples](https://github.com/scivision/fortran2018-examples)"
      ]
    },
    {
      "cell_type": "markdown",
      "metadata": {
        "id": "OoNpQZHqguWS",
        "colab_type": "text"
      },
      "source": [
        "### Aritmética inteira, real e mista\n",
        "\n",
        "- Inteira\n",
        "```Fortran\n",
        "  7/INTEGER(3.4)  = 2\n",
        "  11/3 = 3\n",
        "```\n",
        "\n",
        "- Real\n",
        "```Fortran\n",
        "  7.0/5.0 = 1.4\n",
        "  9./4. = 2.25\n",
        "  3./5.0 = 0.6\n",
        "```\n",
        "\n",
        "- Mista\n",
        "```Fortran\n",
        "   7.0/5 = 1.4\n",
        "   9/4.0 = 2.25\n",
        "```\n",
        "\n",
        "- Conversão automática de tipo:\n",
        "```Fortran\n",
        "PROGRAM converte\n",
        " IMPLICIT NONE\n",
        " INTEGER :: resp\n",
        " REAL    :: soma\n",
        " soma = 1.75 + 5/4  ! soma=2.75\n",
        " PRINT*, soma       ! Imprime 2.75 em vez de 3.0\n",
        " soma = 1.75 + 5./4 ! soma=3\n",
        " PRINT*, soma       ! Imprime  3.0\n",
        " resp = 2.75 + 9/4  ! resp=4\n",
        " PRINT*, resp       ! Imprime 4 em vez 5.0\n",
        " STOP\n",
        "END PROGRAM converte\n",
        "```\n",
        "\n",
        "**ATENÇÃO:** embora o resultado da operação seja real,\n",
        "ele foi armazenado em uma variável do tipo inteiro\n",
        "ocasionando uma conversão automática. Evitem esse tipo\n",
        "de conversão, faça ela sempre de modo explicito."
      ]
    },
    {
      "cell_type": "code",
      "metadata": {
        "ExecuteTime": {
          "end_time": "2019-04-15T11:50:48.939651Z",
          "start_time": "2019-04-15T11:50:48.928501Z"
        },
        "id": "anduES7lguWT",
        "colab_type": "code",
        "colab": {},
        "outputId": "e1578896-cd44-429c-94fb-914e5e1a8d95"
      },
      "source": [
        "%%writefile src/ConversaoAutomaticaTipos.f95\n",
        "PROGRAM converte\n",
        " IMPLICIT NONE\n",
        " INTEGER :: resp\n",
        " REAL    :: soma\n",
        " soma = 1.75 + 5/4  ! soma=2.75\n",
        " PRINT*, soma       ! Imprime 2.75 em vez de 3.0\n",
        " soma = 1.75 + 5./4 ! soma=3\n",
        " PRINT*, soma       ! Imprime  3.0\n",
        " resp = 2.75 + 9/4  ! resp=4\n",
        " PRINT*, resp       ! Imprime 4 em vez 5\n",
        " STOP\n",
        "END PROGRAM converte"
      ],
      "execution_count": 0,
      "outputs": [
        {
          "output_type": "stream",
          "text": [
            "Overwriting src/ConversaoAutomaticaTipos.f95\n"
          ],
          "name": "stdout"
        }
      ]
    },
    {
      "cell_type": "code",
      "metadata": {
        "ExecuteTime": {
          "end_time": "2019-04-15T11:53:10.519652Z",
          "start_time": "2019-04-15T11:53:10.292588Z"
        },
        "id": "wJKK0OLtguWW",
        "colab_type": "code",
        "colab": {},
        "outputId": "ef881aec-18c3-4354-c681-3a99e04bbac0"
      },
      "source": [
        "# Compilando o program\n",
        "!f95 -Wall -std=f2008 -o3 -g x -Wconversion src/ConversaoAutomaticaTipos.f95"
      ],
      "execution_count": 0,
      "outputs": [
        {
          "output_type": "stream",
          "text": [
            "\u001b[01m\u001b[Ksrc/ConversaoAutomaticaTipos.f95:9:8:\u001b[m\u001b[K\n",
            "\n",
            "  resp = 2.75 + 9/4  ! resp=4\n",
            "\u001b[01;32m\u001b[K        1\u001b[m\u001b[K\n",
            "\u001b[01;35m\u001b[KWarning:\u001b[m\u001b[K Possible change of value in conversion from REAL(4) to INTEGER(4) at (1) [-Wconversion]\n",
            "x: na função `_start':\n",
            "(.text+0x0): múltipla definição de `_start'\n",
            "/usr/lib/gcc/x86_64-linux-gnu/5/../../../x86_64-linux-gnu/crt1.o:(.text+0x0): definido primeiramente aqui\n",
            "x: na função `_fini':\n",
            "(.fini+0x0): múltipla definição de `_fini'\n",
            "/usr/lib/gcc/x86_64-linux-gnu/5/../../../x86_64-linux-gnu/crti.o:(.fini+0x0): definido primeiramente aqui\n",
            "x:(.rodata+0x0): múltipla definição de `_IO_stdin_used'\n",
            "/usr/lib/gcc/x86_64-linux-gnu/5/../../../x86_64-linux-gnu/crt1.o:(.rodata.cst4+0x0): definido primeiramente aqui\n",
            "x: na função `data_start':\n",
            "(.data+0x0): múltipla definição de `__data_start'\n",
            "/usr/lib/gcc/x86_64-linux-gnu/5/../../../x86_64-linux-gnu/crt1.o:(.data+0x0): definido primeiramente aqui\n",
            "x: na função `data_start':\n",
            "(.data+0x8): múltipla definição de `__dso_handle'\n",
            "/usr/lib/gcc/x86_64-linux-gnu/5/crtbegin.o:(.data+0x0): definido primeiramente aqui\n",
            "x: na função `_init':\n",
            "(.init+0x0): múltipla definição de `_init'\n",
            "/usr/lib/gcc/x86_64-linux-gnu/5/../../../x86_64-linux-gnu/crti.o:(.init+0x0): definido primeiramente aqui\n",
            "/tmp/ccybneQm.o: na função `main':\n",
            "/home/aluno/Downloads/src/ConversaoAutomaticaTipos.f95:12: múltipla definição de `main'\n",
            "x:(.text+0x257): definido primeiramente aqui\n",
            "/usr/lib/gcc/x86_64-linux-gnu/5/crtend.o:(.tm_clone_table+0x0): múltipla definição de `__TMC_END__'\n",
            "x:(.data+0x10): definido primeiramente aqui\n",
            "/usr/bin/ld: erro em x(.eh_frame); a tabela .eh_frame_hdr não será criada.\n",
            "collect2: error: ld returned 1 exit status\n"
          ],
          "name": "stdout"
        }
      ]
    },
    {
      "cell_type": "code",
      "metadata": {
        "ExecuteTime": {
          "end_time": "2019-04-15T11:53:16.382444Z",
          "start_time": "2019-04-15T11:53:16.273026Z"
        },
        "id": "f49zN1qtguWY",
        "colab_type": "code",
        "colab": {},
        "outputId": "f88819ed-aa49-4b72-ec8d-11cc8791d97f"
      },
      "source": [
        "# Rodando o programa\n",
        "!./x"
      ],
      "execution_count": 0,
      "outputs": [
        {
          "output_type": "stream",
          "text": [
            "   2.75000000    \r\n",
            "   3.00000000    \r\n",
            "           4\r\n"
          ],
          "name": "stdout"
        }
      ]
    },
    {
      "cell_type": "markdown",
      "metadata": {
        "ExecuteTime": {
          "end_time": "2018-05-01T22:41:16.228575Z",
          "start_time": "2018-05-01T22:41:16.223150Z"
        },
        "id": "xEqMryYYguWb",
        "colab_type": "text"
      },
      "source": [
        "## Conversão interna entre tipos\n",
        "\n",
        "As liguagens de programação ao lidarem com expresões aritméticas com variáveis de tipos diferentes, farão as conversões automáticas de tipos que se fizerem necessárias. Geralmente elas são convertidas par o tipo de maior abrangência. \n",
        "\n",
        "Note que quando uma operação aritmética é executada usando dois números reais, seu resultado imediato é do tipo real. Da mesma forma, quando uma operação aritmética é executada usando dois inteiros, o resultado é do tipo inteiro. Em geral, as operações aritméticas são definidas apenas entre números do mesmo tipo. Por exemplo, a adição de dois números reais é uma operação válida, e a adição de dois inteiros é uma operação válida, mas a adição de um número real e um inteiro não é uma operação válida. Isso é verdade porque números reais e inteiros são armazenados de forma completamente diferentes no computador. \n",
        "\n",
        "O que acontece se uma operação estiver entre um número real e um inteiro? Expressões contendo números reais e inteiros são chamadas expressões de modo misto, e aritmética envolvendo números reais e inteiros é chamada de aritmética de modo misto. No caso de uma operação entre um número real e um inteiro, o inteiro é convertido pelo computador em um número real e a aritmética real é usada nos números. O resultado é do tipo real. Por exemplo, considere as seguintes expressões algébricas:\n",
        "\n",
        "| Tipo da expressão |     Expressão     | Resultado |  Tipo do resultado |\n",
        "| :---------------: | :---------------: | :-------: | :----------------: |\n",
        "| INTEGER           | $7/2$             | 3         | INTEGER            |\n",
        "| REAL              | $7.0/2.0$         | 3.5       | REAL               |\n",
        "| Mista             | $7.0/2$           | 3.5       | REAL               |\n",
        "| Mista             | $7/2.0$           | 3.5       | REAL               | \n",
        "| INTEGER           | $2+1/2$           | 2         | INTEGER            | \n",
        "| Mista             | $2.+1/2$          | 2.        | REAL               | \n",
        "| Mista             | $2 +1./2$         | 2.5       | REAL               | \n",
        "| Mista             | $2 +1/2.$         | 2.5       | REAL               | \n",
        "\n",
        "\n",
        "Pode-se sintetizar os resultados acima da seguinte forma:\n",
        "\n",
        "1) Uma operação entre um número inteiro e um número real é chamada de operação de modo misto, e uma expressão contendo uma ou mais dessas operações é chamada de expressão de modo misto.\n",
        "\n",
        "2) Quando uma operação de modo misto é encontrada, Fortran converte o inteiro em um número real e, em seguida, executa a operação para obter um resultado real.\n",
        "\n",
        "3) A conversão de modo automático não ocorre até que um número real e um inteiro apareçam na mesma operação. Portanto, é possível que uma porção de uma expressão seja avaliada na aritmética inteira, seguida por outra porção avaliada na aritmética real.\n",
        "\n",
        "Ao usarmos expressões aritméticas mistas, o compilador fará as conversões automáticas de tipos, conforme a expressão. <span style=\"color:red\"> Portanto devemos ter um cuidado especial com a mistura de tipos aritméticos. Sempre que possível faça as conversões explicitamente.</span>\n",
        "\n",
        "O Fortran inclui cinco funções de conversão de tipo que nos permitem controlar explicitamente a conversão entre valores inteiros e reais. Essas funções estão descritas na tabela abaixo.\n",
        "\n",
        "|   Função    | Tipo de argumento | tipo do resultado | O que ela faz                                |\n",
        "|:------------| :---------------- | :---------------- | :--------------------------------------------|\n",
        "| `INT(x)`    | `REAL`            | `INTEGER`         | toma a parte inteira de $x$, truncando       |\n",
        "| `NINT(x)`   | `REAL`            | `INTEGER`         | arredonda para o inteiro mais próximo de $x$ |\n",
        "| `CEILING(x)`| `REAL`            | `INTEGER`         | retorna o inteiro maior ou igual a $x$       |\n",
        "| `FLOOR(x)`  | `REAL`            | `INTEGER`         | retorna o inteiro menor ou igual a $x$       |\n",
        "| `REAL(i)`   | `INTEGER`         | `REAL`            | converte o inteiro em um real                |\n",
        "\n",
        "\n",
        "\n",
        "As funções `REAL`, `INT`, `NINT`, `CEILING` e `FLOOR` podem ser usadas para evitar expressões indesejadas de modo misto convertendo explicitamente tipos de dados de um formato para outro. A função `REAL` converte um inteiro em um número real, e as funções `INT`, `NINT`, `CEILING` e `FLOOR` convertem números reais em inteiros. A função `INT` trunca o número real, enquanto a função `NINT` o arredonda para o valor inteiro mais próximo. A função `CEILING` retorna o número inteiro mais próximo maior ou igual ao número real e a função `FLOOR` retorna o inteiro mais próximo menor ou igual ao número real.\n",
        "\n",
        "Para entender a distinção entre essas duas operações, consideremos os números reais $2.9995$ e $-2.9995$. Os resultados de cada função com essas entradas são mostrados abaixo:\n",
        "\n",
        "|       Função       | Resultado  | Descrição                                                   |\n",
        "|:-------------------| :--------- | :-----------------------------------------------------------|\n",
        "| `INT(2.9995)`      | 2          | Trunca a parte decimal de 2.9995 para 2                     |\n",
        "| `NINT(2.9995)`     | 2          | Arredonda o real 2.9995 para o inteiro mais próximo 3       |\n",
        "| `CEILING(2.9995)`  | 3          | Seleciona o primeiro inteiro acima de 2.9995 que é 3        |\n",
        "| `FLOOR(2.9995)`    | 2          | Seleciona o primeiro inteiro abaixo de 2.9995 que é 2       |\n",
        "| `INT(-2.9995)`     | $-2$       | Trunca a parte decimal de $-2.9995$ para $-2$               |\n",
        "| `NINT(-2.9995)`    | $-3$       | Arredonda o real $-2.9995$ para o inteiro mais próximo $-3$ |\n",
        "| `CEILING(-2.9995)` | $-2$       | Seleciona o primeiro inteiro acima de $-2.9995$ que é $-2$  |\n",
        "| `FLOOR(-2.9995)`   | $-3$       | Seleciona o primeiro inteiro abaixo de $-2.9995$ que é $-3$ |"
      ]
    },
    {
      "cell_type": "code",
      "metadata": {
        "ExecuteTime": {
          "end_time": "2019-04-15T11:56:10.486260Z",
          "start_time": "2019-04-15T11:56:10.480451Z"
        },
        "id": "kT-biGflguWb",
        "colab_type": "code",
        "colab": {},
        "outputId": "2f0b409e-53b1-41bc-b813-0b75d0535a7f"
      },
      "source": [
        "%%writefile src/Conv_de_tipos.f95\n",
        "PROGRAM Conversoes\n",
        "  IMPLICIT NONE \n",
        "  REAL    :: x=3.9854\n",
        "  PRINT *,\"INT(2.9995)      = \", INT(X)\n",
        "  PRINT *,\"NINT(2.9995)     = \", NINT(X)\n",
        "  PRINT *,\"CEILING(2.9995)  = \", CEILING(X)\n",
        "  PRINT *,\"FLOOR(2.9995)    = \", FLOOR(X)\n",
        "  PRINT *,\"INT(-2.9995)     = \", INT(-X)\n",
        "  PRINT *,\"NINT(-2.9995)    = \", NINT(-X)\n",
        "  PRINT *,\"CEILING(-2.9995) = \", CEILING(-X)\n",
        "  PRINT *,\"FLOOR(-2.9995)   = \", FLOOR(-X)\n",
        "  STOP\n",
        "END PROGRAM Conversoes    "
      ],
      "execution_count": 0,
      "outputs": [
        {
          "output_type": "stream",
          "text": [
            "Writing src/Conv_de_tipos.f95\n"
          ],
          "name": "stdout"
        }
      ]
    },
    {
      "cell_type": "code",
      "metadata": {
        "ExecuteTime": {
          "end_time": "2019-04-15T11:56:11.504919Z",
          "start_time": "2019-04-15T11:56:11.236347Z"
        },
        "id": "nkxoASGuguWe",
        "colab_type": "code",
        "colab": {}
      },
      "source": [
        "# Compilando o program\n",
        "!f95 -Wall -std=f2008 -o x src/Conv_de_tipos.f95"
      ],
      "execution_count": 0,
      "outputs": []
    },
    {
      "cell_type": "code",
      "metadata": {
        "ExecuteTime": {
          "end_time": "2019-04-15T11:56:11.976434Z",
          "start_time": "2019-04-15T11:56:11.860043Z"
        },
        "id": "zF5-yc8eguWk",
        "colab_type": "code",
        "colab": {},
        "outputId": "62777776-4cf5-474d-b5a8-46f0c54231f9"
      },
      "source": [
        "# Rodando o programa\n",
        "!./x"
      ],
      "execution_count": 0,
      "outputs": [
        {
          "output_type": "stream",
          "text": [
            " INT(2.9995)      =            3\r\n",
            " NINT(2.9995)     =            4\r\n",
            " CEILING(2.9995)  =            4\r\n",
            " FLOOR(2.9995)    =            3\r\n",
            " INT(-2.9995)     =           -3\r\n",
            " NINT(-2.9995)    =           -4\r\n",
            " CEILING(-2.9995) =           -3\r\n",
            " FLOOR(-2.9995)   =           -4\r\n"
          ],
          "name": "stdout"
        }
      ]
    },
    {
      "cell_type": "markdown",
      "metadata": {
        "id": "HAC2uWRSguWl",
        "colab_type": "text"
      },
      "source": [
        "## Conversão explicita de tipos\n",
        "\n",
        "Não existe nenhum função intrínseca para converter entre um valor numérico e uma representação de cadeia de caracteres formatada - por exemplo, dado o valor `CHARACTER` '154' deseja-se converte-lo em um valor `INTEGER` ou `REAL` com o valor 154 ou vice-versa. Essa funcionalidade é fornecida pela estrutura de E/S de arquivo interno, conforme no exemplo a seguir:\n",
        "\n",
        "```Fortran\n",
        "PROGRAM read_val\n",
        "  IMPLICIT NONE\n",
        "  INTEGER :: numero\n",
        "  REAL    :: x=2.0\n",
        "  CHARACTER(len=10) string1, string2\n",
        "  string1 = '154.345'\n",
        "\n",
        "  ! Converte uma string em um valor numérico inteiro\n",
        "  READ (string1,'(I3)') numero  ! Será convertido em um inteiro com 3 digitos\n",
        "  PRINT *, \"Converte a string 154.345 em um número inteiro\"\n",
        "  PRINT ('(i3)'), numero\n",
        "  PRINT *, \n",
        "    \n",
        "  ! Converte um valor numérico em uma string formatada\n",
        "  ! preenchida com zeros a direita\n",
        "  WRITE (string2,'(I10.10)') numero\n",
        "  PRINT *, 'O numero convertido é: ',string2,' fique atendo aos espacos'\n",
        "  ! A impressão abaixop funciona como uma régua para auxiliar a contagem de espaço \n",
        "  PRINT *, '123456789012345678901234567890123456789012345678901234567890123456789012345678901234567890'\n",
        "  PRINT *, '         1         2         3         4         5         6         7         8         9'  \n",
        "    \n",
        "  ! Converte um valor numérico em uma string formatada\n",
        "  ! preenchida com zeros a direita\n",
        "  PRINT *, 'O Real X tem o seguinte valor = ', x\n",
        "  WRITE (string2,'(f10.2)') x\n",
        "  PRINT *, 'O numero convertido é: ',string2,' fique atendo aos espacos'\n",
        "  ! A impressão abaixop funciona como uma régua para auxiliar a contagem de espaço \n",
        "  PRINT *, '123456789012345678901234567890123456789012345678901234567890123456789012345678901234567890'\n",
        "  PRINT *, '         1         2         3         4         5         6         7         8         9'      \n",
        "\n",
        "  ! Converte uma string em um valor numérico real\n",
        "  READ (string1,'(F10.4)') x  ! Será convertido em um REAL\n",
        "  PRINT *, \"Converte a string 154.345 em um número inteiro\"\n",
        "  PRINT ('(A15,1x,f7.3)'), \"O número real =\", x\n",
        "        \n",
        "  STOP\n",
        "END PROGRAM read_val\n",
        "```"
      ]
    },
    {
      "cell_type": "code",
      "metadata": {
        "ExecuteTime": {
          "end_time": "2019-04-15T11:58:29.119991Z",
          "start_time": "2019-04-15T11:58:29.113775Z"
        },
        "id": "x4ddOkQlguWn",
        "colab_type": "code",
        "colab": {},
        "outputId": "a741aca5-5dc7-4d78-842e-4bc64b34e3c0"
      },
      "source": [
        "%%writefile src/ConversaoInternaTipos.f95\n",
        "PROGRAM read_val\n",
        "  IMPLICIT NONE\n",
        "  INTEGER :: numero\n",
        "  REAL    :: x=2.0\n",
        "  CHARACTER(len=10) string1, string2\n",
        "  string1 = '154.345'\n",
        "\n",
        "  ! Converte uma string em um valor numérico inteiro\n",
        "  READ (string1,'(I3)') numero  ! Será convertido em um inteiro com 3 digitos\n",
        "  PRINT *, \"Converte a string 154.345 em um número inteiro\"\n",
        "  PRINT ('(i3)'), numero\n",
        "  PRINT *, \n",
        "    \n",
        "  ! Converte um valor numérico em uma string formatada\n",
        "  ! preenchida com zeros a direita\n",
        "  WRITE (string2,'(I10.10)') numero\n",
        "  PRINT *, 'O numero convertido é: ',string2,' fique atendo aos espacos'\n",
        "  ! A impressão abaixop funciona como uma régua para auxiliar a contagem de espaço \n",
        "  PRINT *, '123456789012345678901234567890123456789012345678901234567890123456789012345678901234567890'\n",
        "  PRINT *, '         1         2         3         4         5         6         7         8         9'  \n",
        "    \n",
        "  ! Converte um valor numérico em uma string formatada\n",
        "  ! preenchida com zeros a direita\n",
        "  PRINT *, 'O Real X tem o seguinte valor = ', x\n",
        "  WRITE (string2,'(f10.2)') x\n",
        "  PRINT *, 'O numero convertido é: ',string2,' fique atendo aos espacos'\n",
        "  ! A impressão abaixop funciona como uma régua para auxiliar a contagem de espaço \n",
        "  PRINT *, '123456789012345678901234567890123456789012345678901234567890123456789012345678901234567890'\n",
        "  PRINT *, '         1         2         3         4         5         6         7         8         9'      \n",
        "\n",
        "  ! Converte uma string em um valor numérico real\n",
        "  READ (string1,'(F10.4)') x  ! Será convertido em um REAL\n",
        "  PRINT *, \"Converte a string 154.345 em um número inteiro\"\n",
        "  PRINT ('(A15,1x,f7.3)'), \"O número real =\", x\n",
        "    \n",
        "  STOP\n",
        "END PROGRAM read_val"
      ],
      "execution_count": 0,
      "outputs": [
        {
          "output_type": "stream",
          "text": [
            "Writing src/ConversaoInternaTipos.f95\n"
          ],
          "name": "stdout"
        }
      ]
    },
    {
      "cell_type": "code",
      "metadata": {
        "ExecuteTime": {
          "end_time": "2019-04-15T11:58:29.689044Z",
          "start_time": "2019-04-15T11:58:29.528991Z"
        },
        "id": "-ZLhD879guWo",
        "colab_type": "code",
        "colab": {}
      },
      "source": [
        "# Compilando o program\n",
        "!f95 -Wall -std=f2008 -o x src/ConversaoInternaTipos.f95"
      ],
      "execution_count": 0,
      "outputs": []
    },
    {
      "cell_type": "code",
      "metadata": {
        "ExecuteTime": {
          "end_time": "2019-04-15T11:58:30.284249Z",
          "start_time": "2019-04-15T11:58:30.166308Z"
        },
        "id": "St1vPCeuguWp",
        "colab_type": "code",
        "colab": {},
        "outputId": "0f77af98-0438-472a-d3c4-dcc63c88520e"
      },
      "source": [
        "#Rodando\n",
        "! ./x"
      ],
      "execution_count": 0,
      "outputs": [
        {
          "output_type": "stream",
          "text": [
            " Converte a string 154.345 em um número inteiro\r\n",
            "154\r\n",
            "\r\n",
            " O numero convertido é: 0000000154 fique atendo aos espacos\r\n",
            " 123456789012345678901234567890123456789012345678901234567890123456789012345678901234567890\r\n",
            "          1         2         3         4         5         6         7         8         9\r\n",
            " O Real X tem o seguinte valor =    2.00000000    \r\n",
            " O numero convertido é:       2.00 fique atendo aos espacos\r\n",
            " 123456789012345678901234567890123456789012345678901234567890123456789012345678901234567890\r\n",
            "          1         2         3         4         5         6         7         8         9\r\n",
            " Converte a string 154.345 em um número inteiro\r\n",
            "O número real  154.345\r\n"
          ],
          "name": "stdout"
        }
      ]
    },
    {
      "cell_type": "markdown",
      "metadata": {
        "id": "TrZnrL8vguWv",
        "colab_type": "text"
      },
      "source": [
        "## Transferência de dados em arquivos internos\n",
        "\n",
        "A transferência de dados da representação da máquina para caracteres ou de caracteres de volta para a representação da máquina pode ser feita entre duas variáveis em um programa em execução. Uma declaração de entrada ou saída de acesso sequencial formatada é usada; formatação direcionada por lista é permitida. O formato é usado para interpretar os caracteres. O arquivo interno e a unidade interna são a mesma variável de caractere.\n",
        "\n",
        "Modelos que podem ser usados para construir instruções de transferência de dados em um arquivo interno são\n",
        "\n",
        "\n",
        "```Fortran\n",
        "read ( unit= varaiavel-char-padrao &\n",
        "            , fmt= format &\n",
        "            [ , iostat= varaiavel-escalar-int-padrao ] &\n",
        "            [ , iomsg= varaiavel-escalar-char ] &\n",
        "            ) [ lista-de-entrada ]\n",
        "\n",
        "write ( unit= varaiavel-char-padrao &\n",
        "            , fmt= format &\n",
        "            [ , iostat= varaiavel-escalar-int-padrao ] &\n",
        "            [ , iomsg= varaiavel-escalar-char ] &\n",
        "            ) [ lista-de-saida ]\n",
        "```\n",
        "\n",
        "\n",
        "Exemplos de instruções de transferência de dados em arquivos internos são\n",
        "\n",
        "```Fortran\n",
        "read (unit=char_10, fmt=fmt_1, iostat=io_err) &\n",
        "            energia, En, i, nivel, degenerescencia\n",
        "write (unit=char_var, fmt=*) En]\n",
        "```\n",
        "\n",
        "### Algumas regras e restrições para o uso de arquivos internos são:\n",
        "\n",
        "\n",
        "1. A unidade deve ser uma variável de caractere que não seja uma seção de matriz com um vetor subscrito.\n",
        "\n",
        "2. Cada registro de um arquivo interno é uma variável de caractere escalar.\n",
        "\n",
        "3. Se o arquivo é uma matriz ou uma seção de matriz, cada elemento da matriz ou seção é uma variável de caractere escalar e, portanto, um registro. A ordem dos registros é a ordem dos elementos do array (para arrays de rank dois e maiores, o primeiro subscrito varia mais rapidamente). O comprimento do registro, que deve ser o mesmo para cada registro, é o comprimento de um elemento da matriz.\n",
        "\n",
        "4. Se a variável de caractere for uma matriz ou parte de uma matriz que possui o atributo de ponteiro, a variável deve ser alocada antes de seu uso como um arquivo interno.\n",
        "\n",
        "5. Se o número de caracteres escritos for menor que o comprimento do registro, os caracteres restantes serão configurados em branco. Se o número de caracteres for maior que o comprimento do registro, os caracteres restantes serão truncados.\n",
        "\n",
        "6. Os registros em um arquivo interno recebem valores quando o registro é gravado. Um arquivo interno também pode receber um valor por uma instrução de atribuição de caractere ou por outros meios.\n",
        "\n",
        "7. Para ler um registro em um arquivo interno, ele deve ser definido.\n",
        "\n",
        "8. Um arquivo interno é sempre posicionado no início antes de ocorrer uma transferência de dados.\n",
        "\n",
        "9. Apenas o acesso sequencial formatado é permitido em arquivos internos. A formatação direcionada por lista é permitida.\n",
        "\n",
        "10. Conexão de arquivos, posicionamento e consulta não devem ser usados com arquivos internos.\n",
        "\n",
        "11. O uso dos especificadores iostat e iomsg é o mesmo dos arquivos externos.\n",
        "\n",
        "12. Na entrada, os espaços em branco são ignorados em campos numéricos.\n",
        "\n",
        "13. Na saída direcionada por lista, as constantes de caracteres são delimitadas por aspas.\n",
        "\n",
        "Como um exemplo simples do uso de arquivos internos, a seguinte instrução de gravação converte o valor da variável inteira `n` na cadeia de caracteres `s` de tamanho 10:\n",
        "\n",
        "```Fortran\n",
        "write (unit=s, fmt=\"(i10)\") n\n",
        "```\n",
        "\n",
        "Se `n = 999`, a string `s` seria `\"bbbbbbb999\"`, onde `b` representa um caractere em branco. Para fazer a conversão se comportar de maneira um pouco diferente, podemos forçar o primeiro caractere de `s` a ser um sinal e fazer com que o resto dos caracteres sejam preenchidos, usando quantos zeros à esquerda forem necessários.\n",
        "\n",
        "```Fortran\n",
        "write (unit=s, fmt=\"(sp, i10.9)\") n\n",
        "```\n",
        "\n",
        "Agora `n = 999`, a string `s` terá o valor `\"+000000999\"`.\n",
        "\n",
        "Outro uso de entrada/saída interna é ler os dados de um arquivo diretamente em uma cadeia de caracteres, examiná-lo para certificar-se de que ele tenha o formato apropriado para os dados que devem ser lidos e, em seguida, lê-lo com conversão de formatação variável de cadeia de caracteres para as variáveis necessárias para manter os dados. Para manter o exemplo simples, suponha que algum registro de dados de entrada deva conter dez valores inteiros, mas eles foram inseridos no arquivo como dez inteiros separados por dois-pontos. A entrada direcionada por lista requer que os números sejam separados por espaços em branco ou vírgulas. Uma opção é ler os dados, examinar os caracteres um de cada vez e construir os inteiros; mas a entrada direcionada por lista fará tudo, exceto encontrar os separadores de dois pontos. Portanto, outra possibilidade é ler no registro, alterar os dois-pontos por vírgulas e usar uma instrução de leitura dirigida à lista interna para converter a cadeia de caracteres em dez valores inteiros. Aqui está um programa completo, mas apenas lê os números e os imprime.\n",
        "\n",
        "```Fortran\n",
        "program conv_interno\n",
        "    implicit none\n",
        "    character(len=100) :: reg_interno\n",
        "    integer, dimension(10) :: numeros\n",
        "    integer :: col_pos\n",
        "\n",
        "    read (unit=*, fmt=\"(a)\") reg_interno\n",
        "    do\n",
        "        col_pos = index(reg_interno, \":\")\n",
        "        if (col_pos == 0) exit\n",
        "        reg_interno (col_pos:col_pos) = \",\"\n",
        "    end do\n",
        "    read (unit=reg_interno, fmt=*) numeros\n",
        "    print \"(5i5)\", numeros\n",
        "    stop\n",
        "end program conv_interno\n",
        "```\n",
        "\n",
        "Se a entrada for dada por \n",
        "\n",
        "```\n",
        "3:24:53:563:-34:290:-9:883:9:224\n",
        "```\n",
        "\n",
        "a saída será dada por\n",
        "\n",
        "```\n",
        "   3     24     53   563   -34\n",
        "290    -9    883      9    224\n",
        "```\n",
        "\n",
        "Naturalmente, em um programa real, alguma verificação de erro deve ser feita para garantir que o registro interno tenha o formato correto depois que os dois-pontos forem convertidos em vírgulas."
      ]
    },
    {
      "cell_type": "markdown",
      "metadata": {
        "id": "Ee6MGYTBguWw",
        "colab_type": "text"
      },
      "source": [
        "## Aritmética e exponeciação de modo misto \n",
        "\n",
        "Como regra geral, operações aritméticas de modo misto são indesejáveis porque são difíceis de entender e às vezes podem levar a resultados inesperados. No entanto, há uma exceção a essa regra: exponenciação. Para exponenciação, operação de modo misto é realmente desejável.\n",
        "\n",
        "Para entender por que isso acontece, considere a declaração de atribuição\n",
        "\n",
        "```fortran\n",
        "resultado = y**n\n",
        "```\n",
        "\n",
        "na qual o `resultado` e `y` são reais e `n` é um inteiro. A expressão `y**n` é a abreviação de \"use `y` como um fator de n vezes”, e é exatamente isso que o computador faz quando encontra essa expressão. Como `y` é um número real e o computador está multiplicando `y` por si mesmo, o computador está realmente fazendo uma aritmética real e não uma aritmética de modo misto!\n",
        "\n",
        "Agora considere a declaração de atribuição\n",
        "\n",
        "```fortran\n",
        "resultado = y**x\n",
        "```\n",
        "\n",
        "na qual o `resultado`, `y` e `x` são reais. A expressão `y ** x` é uma abreviação para \"use `y` como um fator `x` vezes\", mas desta vez `x` não é um inteiro. Em vez disso, `x` pode ser um número como 3.5. Não é fisicamente possível multiplicar um número por si mesmo 3.5 vezes, então temos que usar métodos indiretos para calcular `y**x` neste caso. A abordagem mais comum é usar a fórmula algébrica padrão que diz que\n",
        "\n",
        "\\begin{equation}\n",
        "y^x = e^{x \\ln y}\n",
        "\\end{equation}\n",
        "\n",
        "Usando esta equação, podemos avaliar `y**x` tomando o logaritmo natural de `y`, multiplicá-lo por `x`, e então calculando e para a potência resultante. Embora essa técnica certamente funcione, ela demora mais para ser executada e é menos precisa do que uma série comum de multiplicações. Portanto, se for dada uma escolha, devemos tentar elevar números reais para poderes inteiros em vez de poderes reais.\n",
        "\n",
        "**Observação:** É uma boa prática de programação, sempre que possível usar expoentes inteiros em vez de real. \n",
        "\n",
        "Note que <span style=\"color:red\">não é possível elevar um número negativo a uma potência real.</span> Elevar um número negativo a uma potência inteira é uma operação legal, como por exemplo: $(-3.0)**2=9$. Portanto, elevar um número negativo a uma potência real é uma operação ilegal, já que o logaritmo natural de um número negativo é indefindo. Portanto, a expressão $(-3.0)**2.0$ irá produzir uma mensagem de erro na compilação, conforme exemplo abaixo."
      ]
    },
    {
      "cell_type": "code",
      "metadata": {
        "ExecuteTime": {
          "end_time": "2019-04-15T12:09:03.740326Z",
          "start_time": "2019-04-15T12:09:03.736852Z"
        },
        "id": "-6nNla63guWw",
        "colab_type": "code",
        "colab": {},
        "outputId": "db3c25b0-4121-4f66-e94e-6f3f763ebed0"
      },
      "source": [
        "%%writefile src/Potencia_real_01.f95\n",
        "PROGRAM Potencia_real\n",
        "  IMPLICIT NONE \n",
        "  REAL    :: x=-3.0, P=2.0\n",
        "  INTEGER :: I=2\n",
        "  PRINT *,\"(-3.0)**2   = \", x**I\n",
        "  PRINT *,\"(-3.0)**2.0 = \", x**P\n",
        "  STOP\n",
        "END PROGRAM Potencia_real    "
      ],
      "execution_count": 0,
      "outputs": [
        {
          "output_type": "stream",
          "text": [
            "Writing src/Potencia_real_01.f95\n"
          ],
          "name": "stdout"
        }
      ]
    },
    {
      "cell_type": "code",
      "metadata": {
        "ExecuteTime": {
          "end_time": "2019-04-15T12:09:04.100139Z",
          "start_time": "2019-04-15T12:09:03.942113Z"
        },
        "id": "G-XTRmsAguWy",
        "colab_type": "code",
        "colab": {}
      },
      "source": [
        "# Compilando o program\n",
        "!f95 -std=f2008 -o x src/Potencia_real_01.f95"
      ],
      "execution_count": 0,
      "outputs": []
    },
    {
      "cell_type": "code",
      "metadata": {
        "ExecuteTime": {
          "end_time": "2019-04-15T12:09:04.955140Z",
          "start_time": "2019-04-15T12:09:04.836716Z"
        },
        "id": "dvzNnSG0guWz",
        "colab_type": "code",
        "colab": {},
        "outputId": "9e879747-9b62-4e7d-814c-2f7e1e680468"
      },
      "source": [
        "# Rodando o programa\n",
        "!./x"
      ],
      "execution_count": 0,
      "outputs": [
        {
          "output_type": "stream",
          "text": [
            " (-3.0)**2   =    9.00000000    \r\n",
            " (-3.0)**2.0 =    9.00000000    \r\n"
          ],
          "name": "stdout"
        }
      ]
    },
    {
      "cell_type": "markdown",
      "metadata": {
        "id": "BCFHzkutguW3",
        "colab_type": "text"
      },
      "source": [
        "**Agora com a mensagem de erro**"
      ]
    },
    {
      "cell_type": "code",
      "metadata": {
        "ExecuteTime": {
          "end_time": "2019-01-08T18:40:13.109845Z",
          "start_time": "2019-01-08T18:40:13.046747Z"
        },
        "id": "-qJoymGMguW3",
        "colab_type": "code",
        "colab": {}
      },
      "source": [
        "%%writefile src/Potencia_real_02.f95\n",
        "PROGRAM Potencia_real\n",
        "  IMPLICIT NONE \n",
        "  REAL    :: x=-3.0, P=2.0\n",
        "  INTEGER :: I=2\n",
        "  PRINT *,\"(-3.0)**2   = \", x**I\n",
        "  PRINT *,\"(-3.0)**2.0 = \", x**P\n",
        "  PRINT *,\"(-3.0)**2   = \", (-3.0)**2\n",
        "  PRINT *,\"(-3.0)**2.0 = \", (-3.0)**2.0\n",
        "  STOP\n",
        "END PROGRAM Potencia_real "
      ],
      "execution_count": 0,
      "outputs": []
    },
    {
      "cell_type": "code",
      "metadata": {
        "ExecuteTime": {
          "end_time": "2019-01-08T18:40:22.607042Z",
          "start_time": "2019-01-08T18:40:21.218217Z"
        },
        "id": "YqxaglT2guW5",
        "colab_type": "code",
        "colab": {}
      },
      "source": [
        "# Compilando o program\n",
        "!f95 -std=f2008 -o x src/Potencia_real_02.f95"
      ],
      "execution_count": 0,
      "outputs": []
    },
    {
      "cell_type": "markdown",
      "metadata": {
        "id": "T_ZbRdUOguW7",
        "colab_type": "text"
      },
      "source": [
        "**OBSERVAÇÃO:** Portanto, numca eleve um número negativo a uma potência real."
      ]
    },
    {
      "cell_type": "markdown",
      "metadata": {
        "id": "3jEXd5E_guW8",
        "colab_type": "text"
      },
      "source": [
        "## Número complexos\n",
        "\n",
        "O fortran possui variáveis do tipo `COMPLEX` e tem agumas funções para lidar com os número complexos. As funções básicas são: `CMPLX`, `REAL`, `AIMAG`, `ABS` e `CONJG`. A função `CMPLX` converte um par de número em um número complexo. A função `REAL` de um número complexo retorna sua parte real, enaquanto a função `AIMAG` retorna a parte imaginária. A função `ABS` fornece o módulo de um número complexo enquanto a função `CONJG` retorna o complexo conjugado do seu argumento. \n",
        "\n",
        "A seguir mostramos um exemplo que ilustra o uso dessas funções."
      ]
    },
    {
      "cell_type": "code",
      "metadata": {
        "ExecuteTime": {
          "end_time": "2019-04-15T12:11:37.993556Z",
          "start_time": "2019-04-15T12:11:37.986748Z"
        },
        "id": "irKfCuXLguW8",
        "colab_type": "code",
        "colab": {},
        "outputId": "c72df292-bfb1-4631-e8a8-afb267f26806"
      },
      "source": [
        "%%writefile src/ConvComplexos.f95\n",
        "PROGRAM Conversoes\n",
        "  IMPLICIT NONE\n",
        "  INTEGER :: i=4, k=3\n",
        "  REAL    :: a = 7.0\n",
        "  COMPLEX :: c1\n",
        "  c1 = CMPLX(k, i)\n",
        "  PRINT *, \"a = \", a\n",
        "  PRINT *, \"c1 = \", c1\n",
        "  PRINT *, \"CMPLX(c1) = \", CMPLX(c1)\n",
        "  PRINT *, \"REAL(c1) = \", REAL(c1)\n",
        "  PRINT *, \"AIMAG(c1) = \", AIMAG(c1)\n",
        "  PRINT *, \"CONJG(c1) = \", CONJG(c1)\n",
        "  PRINT *, \"ABS(c1) = \", ABS(c1)  \n",
        "  PRINT *, \"CMPLX(a) -c1  = \", CMPLX(a) -c1\n",
        "END PROGRAM Conversoes"
      ],
      "execution_count": 0,
      "outputs": [
        {
          "output_type": "stream",
          "text": [
            "Writing src/ConvComplexos.f95\n"
          ],
          "name": "stdout"
        }
      ]
    },
    {
      "cell_type": "code",
      "metadata": {
        "ExecuteTime": {
          "end_time": "2019-04-15T12:11:38.433258Z",
          "start_time": "2019-04-15T12:11:38.247369Z"
        },
        "id": "4XZ0Lj5PguW-",
        "colab_type": "code",
        "colab": {}
      },
      "source": [
        "# Compilando o program\n",
        "!f95 -std=f2008 -o x src/ConvComplexos.f95"
      ],
      "execution_count": 0,
      "outputs": []
    },
    {
      "cell_type": "code",
      "metadata": {
        "ExecuteTime": {
          "end_time": "2019-04-15T12:11:39.385290Z",
          "start_time": "2019-04-15T12:11:39.274725Z"
        },
        "id": "2Aj9uPN_guXB",
        "colab_type": "code",
        "colab": {},
        "outputId": "67fe293e-753f-40ab-968c-2d2ec757539f"
      },
      "source": [
        "# Rodando o programa\n",
        "!./x"
      ],
      "execution_count": 0,
      "outputs": [
        {
          "output_type": "stream",
          "text": [
            " a =    7.00000000    \r\n",
            " c1 =  (  3.00000000    ,  4.00000000    )\r\n",
            " CMPLX(c1) =  (  3.00000000    ,  4.00000000    )\r\n",
            " REAL(c1) =    3.00000000    \r\n",
            " AIMAG(c1) =    4.00000000    \r\n",
            " CONJG(c1) =  (  3.00000000    , -4.00000000    )\r\n",
            " ABS(c1) =    5.00000000    \r\n",
            " CMPLX(a) -c1  =  (  4.00000000    , -4.00000000    )\r\n"
          ],
          "name": "stdout"
        }
      ]
    },
    {
      "cell_type": "markdown",
      "metadata": {
        "id": "WyluYJ7RguXE",
        "colab_type": "text"
      },
      "source": [
        "```Fortran\n",
        "\n",
        "```"
      ]
    }
  ]
}